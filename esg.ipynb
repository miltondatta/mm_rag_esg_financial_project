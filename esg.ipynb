{
 "cells": [
  {
   "cell_type": "code",
   "execution_count": 1,
   "metadata": {},
   "outputs": [],
   "source": [
    "#from yt_dlp import YoutubeDL\n",
    "import os\n",
    "#import re"
   ]
  },
  {
   "cell_type": "code",
   "execution_count": 5,
   "metadata": {},
   "outputs": [],
   "source": [
    "from pytube import YouTube\n",
    "from moviepy import VideoFileClip"
   ]
  },
  {
   "cell_type": "markdown",
   "metadata": {},
   "source": [
    "### Audio Conversion from Video"
   ]
  },
  {
   "cell_type": "code",
   "execution_count": null,
   "metadata": {},
   "outputs": [],
   "source": [
    "video_path = \"/home/pms/llm_project/mm_rag_esg_financial_project/downloads_vdo/Invest_with_Conscience_ ESG_Investing.mp4\"\n",
    "audio_path = os.path.splitext(video_path)[0] + '.mp3'\n",
    "\n",
    "video_clip = VideoFileClip(video_path)\n",
    "video_clip.audio.write_audiofile(audio_path,codec='mp3')\n",
    "video_clip.close()\n"
   ]
  },
  {
   "cell_type": "markdown",
   "metadata": {},
   "source": [
    "### Transcriptions Generation with Whisper"
   ]
  },
  {
   "cell_type": "code",
   "execution_count": null,
   "metadata": {},
   "outputs": [],
   "source": [
    "!pip -qqq install openai-whisper"
   ]
  },
  {
   "cell_type": "code",
   "execution_count": 6,
   "metadata": {},
   "outputs": [],
   "source": [
    "import whisper\n",
    "import torch"
   ]
  },
  {
   "cell_type": "code",
   "execution_count": 3,
   "metadata": {},
   "outputs": [
    {
     "name": "stderr",
     "output_type": "stream",
     "text": [
      "/home/pms/llm_project/mm_rag_esg_financial_project/esg/lib/python3.10/site-packages/whisper/__init__.py:150: FutureWarning: You are using `torch.load` with `weights_only=False` (the current default value), which uses the default pickle module implicitly. It is possible to construct malicious pickle data which will execute arbitrary code during unpickling (See https://github.com/pytorch/pytorch/blob/main/SECURITY.md#untrusted-models for more details). In a future release, the default value for `weights_only` will be flipped to `True`. This limits the functions that could be executed during unpickling. Arbitrary objects will no longer be allowed to be loaded via this mode unless they are explicitly allowlisted by the user via `torch.serialization.add_safe_globals`. We recommend you start setting `weights_only=True` for any use case where you don't have full control of the loaded file. Please open an issue on GitHub for any issues related to this experimental feature.\n",
      "  checkpoint = torch.load(fp, map_location=device)\n"
     ]
    }
   ],
   "source": [
    "device = \"cude\" if torch.cuda.is_available() else \"cpu\"\n",
    "whisper_model = whisper.load_model(\"medium\",device=device)"
   ]
  },
  {
   "cell_type": "code",
   "execution_count": 4,
   "metadata": {},
   "outputs": [
    {
     "name": "stderr",
     "output_type": "stream",
     "text": [
      "/home/pms/llm_project/mm_rag_esg_financial_project/esg/lib/python3.10/site-packages/whisper/transcribe.py:126: UserWarning: FP16 is not supported on CPU; using FP32 instead\n",
      "  warnings.warn(\"FP16 is not supported on CPU; using FP32 instead\")\n"
     ]
    }
   ],
   "source": [
    "import glob\n",
    "# Initialize the AudioTranscriber\n",
    "#transcriber = AudioTranscriber(input_folder=r\"./data\")\n",
    "\n",
    "# Initialize your Whisper model\n",
    "#transcriber.whisper_model = whisper_model\n",
    "\n",
    "# Transcribe all audios in the input folder\n",
    "#for file in glob.glob(f'{os.getcwd()}/data/*.mp3'):\n",
    "transcriptions_dict = whisper_model.transcribe(\"/home/pms/llm_project/mm_rag_esg_financial_project/data/ESG_investing_complete.mp3\")\n",
    "\n",
    "#print(transcriptions_dict)\n",
    "#transcriptions_dict\n",
    "\n",
    "# for _, data in transcriptions_dict.items():\n",
    "#     #print(f\"URL: {url}\")\n",
    "#     print(f\"Audio file: {data['audio_path']}\")\n",
    "#     print(f\"Transcription: {data['transcription'][:100]}...\")  # Print first 100 characters\n",
    "#     print(\"---\")"
   ]
  },
  {
   "cell_type": "code",
   "execution_count": 6,
   "metadata": {},
   "outputs": [
    {
     "data": {
      "text/plain": [
       "\" ESG, real or marketing? It's a complete fraud. Complete fraud. It's so ridiculous. Governance has been addressed. That's useful. But this idea that you're going to get a stamp that says, oh, listen, my supplier, I've offset their carbon credits and now I understand my... It's a joke. It's jargon. And I think what people are doing right now is using it as a way to, for example, if you can paint yourself as ESG, in Europe you can essentially borrow money from the ECB at negative rates. I can do you a massage now. It's a carry-trade. He doesn't want you touching him. Coronavirus. Go Chamath. Go Chamath. Hold on. But I personally believe in climate change. I know. I think we need to do something. And so the problem with ESG is it's going to take years for this... But when you hear JP Morgan yesterday say they're not going to finance fossil fuels or you hear Ed Bastien at Delta say he's going to spend $100 million, real money by the way, effectively buying carbon offsets and investing in new biofuels every year, you say... JP Morgan, by saying what they said, will be able to borrow billions of dollars from the ECB at negative rates. You think that's what that is? It's obviously what it is. It doesn't have to work. They don't need to do anything. They are now getting free money from Europe for basically being able to say this. And you don't think they would get that money otherwise? No, because Europe basically has this condition where you can issue green bonds and you can have all of this, you know, checks and balances. So that's one thing. It's going to be very important for you to really be able to diligence the supply chain all the way down to the supplier and the supplier's supplier. So when you saw Microsoft to say they're going to do, for example... These are useful statements. It's great marketing. But again, it's a lot of sizzle, no stake. I think that what we need to do is invest in actual companies that can go and count and can go and, you know, legitimize the actual impact that companies have so that you can do the right amount of carbon offsets. And then you have to have a legitimate exchange where you can actually trade them. So if you really believe in climate change, you've got to do some hard work now. By the way, Virgin Galactic is going to be throwing off a lot of carbon. Do you buy offsets? Galactica. Galactica. Yeah, we have a plan to sort of get to sustainability. You do? Why? If it's all... Because it's important. He believes it. He just said he believes it.\""
      ]
     },
     "execution_count": 6,
     "metadata": {},
     "output_type": "execute_result"
    }
   ],
   "source": [
    "transcriptions_dict['text']"
   ]
  },
  {
   "cell_type": "markdown",
   "metadata": {},
   "source": [
    "### PDF Document Parsing"
   ]
  },
  {
   "cell_type": "code",
   "execution_count": 1,
   "metadata": {},
   "outputs": [
    {
     "name": "stderr",
     "output_type": "stream",
     "text": [
      "/home/pms/llm_project/mm_rag_esg_financial_project/esg/lib/python3.10/site-packages/tqdm/auto.py:21: TqdmWarning: IProgress not found. Please update jupyter and ipywidgets. See https://ipywidgets.readthedocs.io/en/stable/user_install.html\n",
      "  from .autonotebook import tqdm as notebook_tqdm\n"
     ]
    }
   ],
   "source": [
    "from unstructured.partition.pdf import partition_pdf"
   ]
  },
  {
   "cell_type": "code",
   "execution_count": 2,
   "metadata": {},
   "outputs": [],
   "source": [
    "esg_report_path = \"/home/pms/llm_project/mm_rag_esg_financial_project/pdf/Bidding_Document_UWS_AGRC.pdf\""
   ]
  },
  {
   "cell_type": "code",
   "execution_count": 3,
   "metadata": {},
   "outputs": [],
   "source": [
    "raw_pdf_elements=partition_pdf(\n",
    "    filename=esg_report_path,\n",
    "    strategy=\"hi_res\",\n",
    "    extract_images_in_pdf=True,\n",
    "    extract_image_block_types=[\"Image\", \"Table\"],\n",
    "    extract_image_block_to_payload=False,\n",
    "    extract_image_block_output_dir=\"extracted_data\",\n",
    ")"
   ]
  },
  {
   "cell_type": "code",
   "execution_count": null,
   "metadata": {},
   "outputs": [],
   "source": [
    "raw_pdf_elements"
   ]
  },
  {
   "cell_type": "code",
   "execution_count": null,
   "metadata": {},
   "outputs": [],
   "source": [
    "# Header=[]\n",
    "# Footer=[]\n",
    "# Title=[]\n",
    "# NarrativeText=[]\n",
    "# Text=[]\n",
    "# ListItem=[]\n",
    "# img=[]\n",
    "# tab=[]\n",
    "# for element in raw_pdf_elements:\n",
    "#   if \"unstructured.documents.elements.Header\" in str(type(element)):\n",
    "#             Header.append(str(element))\n",
    "#   elif \"unstructured.documents.elements.Footer\" in str(type(element)):\n",
    "#             Footer.append(str(element))\n",
    "#   elif \"unstructured.documents.elements.Title\" in str(type(element)):\n",
    "#             Title.append(str(element))\n",
    "#   elif \"unstructured.documents.elements.NarrativeText\" in str(type(element)):\n",
    "#             NarrativeText.append(str(element))\n",
    "#   elif \"unstructured.documents.elements.Text\" in str(type(element)):\n",
    "#             Text.append(str(element))\n",
    "#   elif \"unstructured.documents.elements.ListItem\" in str(type(element)):\n",
    "#             ListItem.append(str(element))\n",
    "#   elif \"unstructured.documents.elements.Image\" in str(type(element)):\n",
    "#             img.append(str(element))\n",
    "#   elif \"unstructured.documents.elements.Table\" in str(type(element)):\n",
    "#             tab.append(str(element))"
   ]
  },
  {
   "cell_type": "markdown",
   "metadata": {},
   "source": [
    "### Extracting Textual Component"
   ]
  },
  {
   "cell_type": "code",
   "execution_count": 5,
   "metadata": {},
   "outputs": [],
   "source": [
    "from unstructured.documents.elements import NarrativeText"
   ]
  },
  {
   "cell_type": "code",
   "execution_count": 6,
   "metadata": {},
   "outputs": [],
   "source": [
    "def extract_text_with_metadata(raw_data, source_document):\n",
    "\n",
    "    text_data = []\n",
    "    paragraph_counters = {}\n",
    "\n",
    "    for element in raw_data:\n",
    "        if isinstance(element, NarrativeText):\n",
    "            page_number = element.metadata.page_number\n",
    "\n",
    "            if page_number not in paragraph_counters:\n",
    "                paragraph_counters[page_number] = 1\n",
    "            else:\n",
    "                paragraph_counters[page_number] += 1\n",
    "\n",
    "            paragraph_number = paragraph_counters[page_number]\n",
    "\n",
    "            text_content = element.text\n",
    "            text_data.append({\n",
    "                \"source_document\": source_document,\n",
    "                \"page_number\": page_number,\n",
    "                \"paragraph_number\": paragraph_number,\n",
    "                \"text\": text_content\n",
    "            })\n",
    "\n",
    "    return text_data"
   ]
  },
  {
   "cell_type": "code",
   "execution_count": 7,
   "metadata": {},
   "outputs": [],
   "source": [
    "extracted_text = extract_text_with_metadata(raw_pdf_elements, esg_report_path)"
   ]
  },
  {
   "cell_type": "code",
   "execution_count": null,
   "metadata": {},
   "outputs": [],
   "source": [
    "extracted_text"
   ]
  },
  {
   "cell_type": "markdown",
   "metadata": {},
   "source": [
    "### Extracting Image Components"
   ]
  },
  {
   "cell_type": "code",
   "execution_count": 9,
   "metadata": {},
   "outputs": [],
   "source": [
    "from unstructured.documents.elements import Image"
   ]
  },
  {
   "cell_type": "code",
   "execution_count": 10,
   "metadata": {},
   "outputs": [],
   "source": [
    "def extract_image_metadata(raw_data, source_document):\n",
    "    image_data = []\n",
    "\n",
    "    for element in raw_data:\n",
    "        if isinstance(element, Image):\n",
    "            page_number = element.metadata.page_number\n",
    "            image_path = element.metadata.image_path if hasattr(element.metadata, 'image_path') else None\n",
    "\n",
    "            image_data.append({\n",
    "                \"source_document\": source_document,\n",
    "                \"page_number\": page_number,\n",
    "                \"image_path\": image_path\n",
    "            })\n",
    "\n",
    "    return image_data"
   ]
  },
  {
   "cell_type": "code",
   "execution_count": 11,
   "metadata": {},
   "outputs": [],
   "source": [
    "extracted_image_data = extract_image_metadata(raw_pdf_elements, esg_report_path)"
   ]
  },
  {
   "cell_type": "code",
   "execution_count": 12,
   "metadata": {},
   "outputs": [],
   "source": [
    "import matplotlib.pyplot as plt\n",
    "from PIL import Image\n",
    "import math"
   ]
  },
  {
   "cell_type": "code",
   "execution_count": 13,
   "metadata": {},
   "outputs": [],
   "source": [
    "def display_images_from_metadata(extracted_image_data, images_per_row=4):\n",
    "    valid_images = [img for img in extracted_image_data if img['image_path']]\n",
    "    if not valid_images:\n",
    "        print(\"No valid image data available.\")\n",
    "        return\n",
    "\n",
    "    num_images = len(valid_images)\n",
    "    num_rows = math.ceil(num_images / images_per_row)\n",
    "\n",
    "    fig, axes = plt.subplots(num_rows, images_per_row, figsize=(20, 5*num_rows))\n",
    "    axes = axes.flatten() if num_rows > 1 else [axes]\n",
    "\n",
    "    for ax, img_data in zip(axes, valid_images):\n",
    "        try:\n",
    "            img = Image.open(img_data['image_path'])\n",
    "            ax.imshow(img)\n",
    "            ax.axis('off')\n",
    "            ax.set_title(f\"Page {img_data['page_number']}\", fontsize=10)\n",
    "        except Exception as e:\n",
    "            print(f\"Error loading image {img_data['image_path']}: {str(e)}\")\n",
    "            ax.text(0.5, 0.5, f\"Error loading image\\n{str(e)}\", ha='center', va='center')\n",
    "            ax.axis('off')\n",
    "\n",
    "    for ax in axes[num_images:]:\n",
    "        fig.delaxes(ax)\n",
    "\n",
    "    plt.tight_layout()\n",
    "    plt.show()"
   ]
  },
  {
   "cell_type": "code",
   "execution_count": null,
   "metadata": {},
   "outputs": [],
   "source": [
    "display_images_from_metadata(extracted_image_data)"
   ]
  },
  {
   "cell_type": "markdown",
   "metadata": {},
   "source": [
    "### Extracting Table Components"
   ]
  },
  {
   "cell_type": "code",
   "execution_count": 15,
   "metadata": {},
   "outputs": [],
   "source": [
    "from unstructured.documents.elements import Table"
   ]
  },
  {
   "cell_type": "code",
   "execution_count": 16,
   "metadata": {},
   "outputs": [],
   "source": [
    "def extract_table_metadata(raw_data, source_document):\n",
    "    table_data = []\n",
    "\n",
    "    for element in raw_data:\n",
    "        if isinstance(element, Table):\n",
    "            page_number = element.metadata.page_number\n",
    "\n",
    "            # Extract table content as a string\n",
    "            table_content = str(element)\n",
    "\n",
    "            table_data.append({\n",
    "                \"source_document\": source_document,\n",
    "                \"page_number\": page_number,\n",
    "                \"table_content\": table_content\n",
    "            })\n",
    "\n",
    "    return table_data"
   ]
  },
  {
   "cell_type": "code",
   "execution_count": 17,
   "metadata": {},
   "outputs": [],
   "source": [
    "extracted_table_data = extract_table_metadata(raw_pdf_elements, esg_report_path)"
   ]
  },
  {
   "cell_type": "code",
   "execution_count": null,
   "metadata": {},
   "outputs": [],
   "source": [
    "extracted_table_data"
   ]
  },
  {
   "cell_type": "code",
   "execution_count": null,
   "metadata": {},
   "outputs": [],
   "source": [
    "# import os\n",
    "# import json\n",
    "# config_data = json.load(open(\"./config.json\"))\n",
    "# #MISTRALAI_API_KEY = config_data[\"MISTRAL_API_KEY\"]\n",
    "# GROQ_API_KEY = config_data[\"GROQ_API_KEY\"]\n",
    "# #os.environ[\"MISTRALAI_API_KEY\"] = MISTRALAI_API_KEY\n",
    "# os.environ[\"GROQ_API_KEY\"] = GROQ_API_KEY"
   ]
  },
  {
   "cell_type": "code",
   "execution_count": 14,
   "metadata": {},
   "outputs": [],
   "source": [
    "from transformers import AutoTokenizer, AutoModelForSeq2SeqLM,BartForCausalLM\n",
    "\n",
    "model_name = \"facebook/bart-large-cnn\"\n",
    "tokenizer = AutoTokenizer.from_pretrained(model_name,cache_dir=\"/home/pms/llm_project/mm_rag_esg_financial_project/saved_model\")\n",
    "model_bart = BartForCausalLM.from_pretrained(model_name,cache_dir=\"/home/pms/llm_project/mm_rag_esg_financial_project/saved_model\")"
   ]
  },
  {
   "cell_type": "code",
   "execution_count": 10,
   "metadata": {},
   "outputs": [],
   "source": [
    "from transformers import AutoTokenizer, AutoModel\n",
    "\n",
    "model_name = \"microsoft/layoutlmv3-base\"\n",
    "tokenizer = AutoTokenizer.from_pretrained(model_name,cache_dir=\"/home/pms/llm_project/mm_rag_esg_financial_project/saved_model\")\n",
    "model_lvm = AutoModel.from_pretrained(model_name,cache_dir=\"/home/pms/llm_project/mm_rag_esg_financial_project/saved_model\")"
   ]
  },
  {
   "cell_type": "code",
   "execution_count": null,
   "metadata": {},
   "outputs": [],
   "source": [
    "model_lvm"
   ]
  },
  {
   "cell_type": "code",
   "execution_count": 15,
   "metadata": {},
   "outputs": [
    {
     "name": "stderr",
     "output_type": "stream",
     "text": [
      "Device set to use cpu\n",
      "/tmp/ipykernel_45369/610766086.py:15: LangChainDeprecationWarning: The class `HuggingFacePipeline` was deprecated in LangChain 0.0.37 and will be removed in 1.0. An updated version of the class exists in the :class:`~langchain-huggingface package and should be used instead. To use it run `pip install -U :class:`~langchain-huggingface` and import as `from :class:`~langchain_huggingface import HuggingFacePipeline``.\n",
      "  llm = HuggingFacePipeline(pipeline=pipe)\n"
     ]
    }
   ],
   "source": [
    "from langchain.llms import HuggingFacePipeline\n",
    "from transformers import pipeline\n",
    "\n",
    "# Create a Hugging Face pipeline for the LLaVA model\n",
    "pipe = pipeline(\n",
    "    \"text-generation\",\n",
    "    model=model_bart,\n",
    "    tokenizer=tokenizer,\n",
    "    max_length=100,\n",
    "    truncation=True\n",
    "    #device=0  # Set this to -1 if you don't have a GPU\n",
    ")\n",
    "\n",
    "# Integrate the Hugging Face pipeline with Langchain\n",
    "llm = HuggingFacePipeline(pipeline=pipe)\n"
   ]
  },
  {
   "cell_type": "code",
   "execution_count": 16,
   "metadata": {},
   "outputs": [
    {
     "data": {
      "text/plain": [
       "HuggingFacePipeline(pipeline=<transformers.pipelines.text_generation.TextGenerationPipeline object at 0x7f0884f6a710>)"
      ]
     },
     "execution_count": 16,
     "metadata": {},
     "output_type": "execute_result"
    }
   ],
   "source": [
    "llm"
   ]
  },
  {
   "cell_type": "markdown",
   "metadata": {},
   "source": [
    "### Summary Generation"
   ]
  },
  {
   "cell_type": "code",
   "execution_count": 17,
   "metadata": {},
   "outputs": [],
   "source": [
    "from langchain_core.output_parsers import StrOutputParser\n",
    "from langchain_core.prompts import ChatPromptTemplate"
   ]
  },
  {
   "cell_type": "markdown",
   "metadata": {},
   "source": [
    "### Text Summary"
   ]
  },
  {
   "cell_type": "code",
   "execution_count": 30,
   "metadata": {},
   "outputs": [],
   "source": [
    "# Prompt\n",
    "prompt_text = \"\"\"You are an assistant tasked with summarizing text for retrieval. \\\n",
    "    These summaries will be embedded and used to retrieve the raw text elements. \\\n",
    "    Give a concise summary of the text that is well optimized for retrieval.text: {element} \"\"\""
   ]
  },
  {
   "cell_type": "code",
   "execution_count": null,
   "metadata": {},
   "outputs": [],
   "source": [
    "#new_prompt_text = \"\"\"{element}\"\"\""
   ]
  },
  {
   "cell_type": "code",
   "execution_count": 31,
   "metadata": {},
   "outputs": [
    {
     "data": {
      "text/plain": [
       "'You are an assistant tasked with summarizing text for retrieval.     These summaries will be embedded and used to retrieve the raw text elements.     Give a concise summary of the text that is well optimized for retrieval.text: {element} '"
      ]
     },
     "execution_count": 31,
     "metadata": {},
     "output_type": "execute_result"
    }
   ],
   "source": [
    "prompt_text"
   ]
  },
  {
   "cell_type": "code",
   "execution_count": 32,
   "metadata": {},
   "outputs": [],
   "source": [
    "prompt = ChatPromptTemplate.from_template(prompt_text)"
   ]
  },
  {
   "cell_type": "code",
   "execution_count": 33,
   "metadata": {},
   "outputs": [],
   "source": [
    "summarize_chain = {\"element\": lambda x: x} | prompt | llm | StrOutputParser()"
   ]
  },
  {
   "cell_type": "code",
   "execution_count": 34,
   "metadata": {},
   "outputs": [],
   "source": [
    "text_summaries = []\n",
    "text_summaries = summarize_chain.batch(extracted_text,{\"max_concurrency\":5})"
   ]
  },
  {
   "cell_type": "code",
   "execution_count": null,
   "metadata": {},
   "outputs": [],
   "source": [
    "text_summaries"
   ]
  },
  {
   "cell_type": "code",
   "execution_count": 43,
   "metadata": {},
   "outputs": [],
   "source": [
    "clean_text_summaries = [sub.replace(\"\"\"You are an assistant tasked with summarizing text for retrieval. \\\n",
    "    These summaries will be embedded and used to retrieve the raw text elements. \\\n",
    "    Give a concise summary of the text that is well optimized for retrieval.text:\"\"\", \"\") for sub in text_summaries]"
   ]
  },
  {
   "cell_type": "code",
   "execution_count": 50,
   "metadata": {},
   "outputs": [],
   "source": [
    "clean_text_summaries = [sub.replace(\"\"\"\\\":\"\"\", \"\") for sub in clean_text_summaries]"
   ]
  },
  {
   "cell_type": "code",
   "execution_count": 52,
   "metadata": {},
   "outputs": [
    {
     "data": {
      "text/plain": [
       "[\"  {'source_document': '/home/pms/llm_project/mm_rag_esg_financial_project/pdf/Bidding_Document_UWS_AGRC.pdf', 'page_number': 3, 'paragraph_number': 1, 'text': 'This Bidding Document for Procurement of Information Technology Products and Services has been prepared by Titas Gas Transmission and Distribution Public Limited Company (TGTDPLC) and is based on the Standard Bidding Document for the Procurement of Information Technology Products and Services issued by the Asian Development Bank dated December 2021.'} \",\n",
       " \"  {'source_document': '/home/pms/llm_project/mm_rag_esg_financial_project/pdf/Bidding_Document_UWS_AGRC.pdf', 'page_number': 7, 'paragraph_number': 1, 'text': 'Single-Stage: Two-Envelope'} \",\n",
       " \"  {'source_document': '/home/pms/llm_project/mm_rag_esg_financial_project/pdf/Bidding_Document_UWS_AGRC.pdf', 'page_number': 8, 'paragraph_number': 1, 'text': 'Bidding Document for Web System'} \",\n",
       " \"  {'source_document': '/home/pms/llm_project/mm_rag_esg_financial_project/pdf/Bidding_Document_UWS_AGRC.pdf', 'page_number': 8, 'paragraph_number': 2, 'text': 'Procurement of IT Products and Services'} \",\n",
       " \"  {'source_document': '/home/pms/llm_project/mm_rag_esg_financial_project/pdf/Bidding_Document_UWS_AGRC.pdf', 'page_number': 8, 'paragraph_number': 3, 'text': 'Single-Stage: Two-Envelope'} \",\n",
       " \"  {'source_document': '/home/pms/llm_project/mm_rag_esg_financial_project/pdf/Bidding_Document_UWS_AGRC.pdf', 'page_number': 9, 'paragraph_number': 1, 'text': 'Single-Stage: Two-Envelope'} \",\n",
       " \"  {'source_document': '/home/pms/llm_project/mm_rag_esg_financial_project/pdf/Bidding_Document_UWS_AGRC.pdf', 'page_number': 10, 'paragraph_number': 1, 'text': 'attempts to mislead, a party to obtain a financial or other benefit or to avoid an obligation;'} \",\n",
       " \"  {'source_document': '/home/pms/llm_project/mm_rag_esg_financial_project/pdf/Bidding_Document_UWS_AGRC.pdf', 'page_number': 10, 'paragraph_number': 2, 'text': 'Single-Stage: Two-Envelope'} \",\n",
       " \"  {'source_document': '/home/pms/llm_project/mm_rag_esg_financial_project/pdf/Bidding_Document_UWS_AGRC.pdf', 'page_number': 11, 'paragraph_number': 1, 'text': 'Bidding Document for Web System'} \",\n",
       " \"  {'source_document': '/home/pms/llm_project/mm_rag_esg_financial_project/pdf/Bidding_Document_UWS_AGRC.pdf', 'page_number': 11, 'paragraph_number': 2, 'text': 'individual has, directly or through an agent, engaged in corrupt, fraudulent, collusive, coercive, or obstructive practices or other integrity violations; and'} \",\n",
       " \"  {'source_document': '/home/pms/llm_project/mm_rag_esg_financial_project/pdf/Bidding_Document_UWS_AGRC.pdf', 'page_number': 11, 'paragraph_number': 3, 'text': 'Procurement of IT Products and Services'} \",\n",
       " \"  {'source_document': '/home/pms/llm_project/mm_rag_esg_financial_project/pdf/Bidding_Document_UWS_AGRC.pdf', 'page_number': 11, 'paragraph_number': 4, 'text': 'Single-Stage: Two-Envelope'} \",\n",
       " \"  {'source_document': '/home/pms/llm_project/mm_rag_esg_financial_project/pdf/Bidding_Document_UWS_AGRC.pdf', 'page_number': 12, 'paragraph_number': 1, 'text': 'Single-Stage: Two-Envelope'} \",\n",
       " \"  {'source_document': '/home/pms/llm_project/mm_rag_esg_financial_project/pdf/Bidding_Document_UWS_AGRC.pdf', 'page_number': 13, 'paragraph_number': 1, 'text': 'and, in the event the Joint Venture is awarded the Contract, during contract execution.'} \",\n",
       " \"  {'source_document': '/home/pms/llm_project/mm_rag_esg_financial_project/pdf/Bidding_Document_UWS_AGRC.pdf', 'page_number': 14, 'paragraph_number': 1, 'text': 'ADB throughout the procurement process and execution of the contract.'} \",\n",
       " \"  {'source_document': '/home/pms/llm_project/mm_rag_esg_financial_project/pdf/Bidding_Document_UWS_AGRC.pdf', 'page_number': 14, 'paragraph_number': 2, 'text': 'Single-Stage: Two-Envelope'} \",\n",
       " \"  {'source_document': '/home/pms/llm_project/mm_rag_esg_financial_project/pdf/Bidding_Document_UWS_AGRC.pdf', 'page_number': 15, 'paragraph_number': 1, 'text': 'recognized product results that is substantially different in basic characteristics or in purpose or utility from its components.'} \",\n",
       " \"  {'source_document': '/home/pms/llm_project/mm_rag_esg_financial_project/pdf/Bidding_Document_UWS_AGRC.pdf', 'page_number': 15, 'paragraph_number': 2, 'text': 'Bidding Document for Web System'} \",\n",
       " \"  {'source_document': '/home/pms/llm_project/mm_rag_esg_financial_project/pdf/Bidding_Document_UWS_AGRC.pdf', 'page_number': 15, 'paragraph_number': 3, 'text': 'Single-Stage: Two-Envelope'} \",\n",
       " \"  {'source_document': '/home/pms/llm_project/mm_rag_esg_financial_project/pdf/Bidding_Document_UWS_AGRC.pdf', 'page_number': 16, 'paragraph_number': 1, 'text': 'clarification, it shall do so following the procedure under ITB 8 and ITB 24.2.'} \",\n",
       " \"  {'source_document': '/home/pms/llm_project/mm_rag_esg_financial_project/pdf/Bidding_Document_UWS_AGRC.pdf', 'page_number': 16, 'paragraph_number': 2, 'text': 'purposes of interpretation of the Bid, such translation shall govern.'} \",\n",
       " \"  {'source_document': '/home/pms/llm_project/mm_rag_esg_financial_project/pdf/Bidding_Document_UWS_AGRC.pdf', 'page_number': 16, 'paragraph_number': 3, 'text': 'Single-Stage: Two-Envelope'} \",\n",
       " \"  {'source_document': '/home/pms/llm_project/mm_rag_esg_financial_project/pdf/Bidding_Document_UWS_AGRC.pdf', 'page_number': 17, 'paragraph_number': 1, 'text': 'Single-Stage: Two-Envelope'} \",\n",
       " \"  {'source_document': '/home/pms/llm_project/mm_rag_esg_financial_project/pdf/Bidding_Document_UWS_AGRC.pdf', 'page_number': 18, 'paragraph_number': 1, 'text': 'Unless otherwise specified in the BDS, the prices must include all costs incidental to the performance of the services, as incurred by the Supplier, such as travel, subsistence, office support, communications, translation, printing of materials, etc. Costs incidental to the delivery of the services but incurred by the Purchaser or its staff, or by third parties, must be included in the price only to the extent such obligations are made explicit in these Bidding Documents (as, e.g., a requirement for the Bidder to include the travel and subsistence costs of trainees).'} \",\n",
       " \"  {'source_document': '/home/pms/llm_project/mm_rag_esg_financial_project/pdf/Bidding_Document_UWS_AGRC.pdf', 'page_number': 18, 'paragraph_number': 2, 'text': 'Single-Stage: Two-Envelope'} \",\n",
       " \"  {'source_document': '/home/pms/llm_project/mm_rag_esg_financial_project/pdf/Bidding_Document_UWS_AGRC.pdf', 'page_number': 19, 'paragraph_number': 1, 'text': 'accordance with ITB 14.6(c) on the Price Schedule for Recurrent Costs. Recurrent costs are all-inclusive of the costs necessary items such as spare parts, software license renewals, labor, etc., needed for the continued and proper operation of the IT Products and Services and, if appropriate, of the Bidder’s own allowance for price increases.'} \",\n",
       " \"  {'source_document': '/home/pms/llm_project/mm_rag_esg_financial_project/pdf/Bidding_Document_UWS_AGRC.pdf', 'page_number': 19, 'paragraph_number': 2, 'text': 'Bidding Document for Web System'} \",\n",
       " \"  {'source_document': '/home/pms/llm_project/mm_rag_esg_financial_project/pdf/Bidding_Document_UWS_AGRC.pdf', 'page_number': 19, 'paragraph_number': 3, 'text': 'Single-Stage: Two-Envelope'} \",\n",
       " \"  {'source_document': '/home/pms/llm_project/mm_rag_esg_financial_project/pdf/Bidding_Document_UWS_AGRC.pdf', 'page_number': 20, 'paragraph_number': 1, 'text': 'Single-Stage: Two-Envelope'} \",\n",
       " \"  {'source_document': '/home/pms/llm_project/mm_rag_esg_financial_project/pdf/Bidding_Document_UWS_AGRC.pdf', 'page_number': 21, 'paragraph_number': 1, 'text': 'all from a reputable source from an eligible country as described in Section 5 (Eligible Countries). In the case of a bank guarantee, the bid security shall be submitted either using the Bid Security Form included in Section 4 (Bidding Forms) or another form acceptable to the Purchaser. The form must include the complete name of the Bidder. The bid security shall be valid for 28 days beyond the original validity period of the bid, or beyond any period of extension if requested under ITB 20.2.'} \",\n",
       " \"  {'source_document': '/home/pms/llm_project/mm_rag_esg_financial_project/pdf/Bidding_Document_UWS_AGRC.pdf', 'page_number': 21, 'paragraph_number': 2, 'text': 'Single-Stage: Two-Envelope'} \",\n",
       " \"  {'source_document': '/home/pms/llm_project/mm_rag_esg_financial_project/pdf/Bidding_Document_UWS_AGRC.pdf', 'page_number': 22, 'paragraph_number': 1, 'text': 'Single-Stage: Two-Envelope'} \",\n",
       " \"  {'source_document': '/home/pms/llm_project/mm_rag_esg_financial_project/pdf/Bidding_Document_UWS_AGRC.pdf', 'page_number': 23, 'paragraph_number': 1, 'text': 'Single-Stage: Two-Envelope'} \",\n",
       " \"  {'source_document': '/home/pms/llm_project/mm_rag_esg_financial_project/pdf/Bidding_Document_UWS_AGRC.pdf', 'page_number': 24, 'paragraph_number': 1, 'text': 'received by the Purchaser after the deadline for submission of Bids shall be declared late, rejected, and returned unopened to the Bidder.'} \",\n",
       " \"  {'source_document': '/home/pms/llm_project/mm_rag_esg_financial_project/pdf/Bidding_Document_UWS_AGRC.pdf', 'page_number': 24, 'paragraph_number': 2, 'text': 'Single-Stage: Two-Envelope'} \",\n",
       " \"  {'source_document': '/home/pms/llm_project/mm_rag_esg_financial_project/pdf/Bidding_Document_UWS_AGRC.pdf', 'page_number': 25, 'paragraph_number': 1, 'text': 'corresponding substitution notice contains a valid authorization to request the substitution and is read out and recorded at bid opening.'} \",\n",
       " \"  {'source_document': '/home/pms/llm_project/mm_rag_esg_financial_project/pdf/Bidding_Document_UWS_AGRC.pdf', 'page_number': 25, 'paragraph_number': 2, 'text': 'Only Technical Bids and alternative Technical Bids read out and recorded at bid opening shall be considered for evaluation. Unless otherwise specified in the BDS, all pages of the Letter of Technical Bid are to be initialed by at least three representatives of the Purchaser attending the bid opening. No Bid shall be rejected at the opening of Technical Bids except for late bids, in accordance with ITB 25.1.'} \",\n",
       " \"  {'source_document': '/home/pms/llm_project/mm_rag_esg_financial_project/pdf/Bidding_Document_UWS_AGRC.pdf', 'page_number': 25, 'paragraph_number': 3, 'text': 'Single-Stage: Two-Envelope'} \",\n",
       " \"  {'source_document': '/home/pms/llm_project/mm_rag_esg_financial_project/pdf/Bidding_Document_UWS_AGRC.pdf', 'page_number': 26, 'paragraph_number': 1, 'text': 'Only Price Bids, discounts, and alternative offers read out and recorded during the opening of Price Bids shall be considered for evaluation. Unless otherwise specified in the BDS, all pages of the Price Bid Submission Sheet and Price Schedules are to be initialed by at least three representatives of the Purchaser attending bid the opening. No Bid shall be rejected at the opening of Price Bids.'} \",\n",
       " \"  {'source_document': '/home/pms/llm_project/mm_rag_esg_financial_project/pdf/Bidding_Document_UWS_AGRC.pdf', 'page_number': 26, 'paragraph_number': 2, 'text': 'Bidding Document for Web System'} \",\n",
       " \"  {'source_document': '/home/pms/llm_project/mm_rag_esg_financial_project/pdf/Bidding_Document_UWS_AGRC.pdf', 'page_number': 26, 'paragraph_number': 3, 'text': 'Single-Stage: Two-Envelope'} \",\n",
       " \"  {'source_document': '/home/pms/llm_project/mm_rag_esg_financial_project/pdf/Bidding_Document_UWS_AGRC.pdf', 'page_number': 27, 'paragraph_number': 1, 'text': 'Single-Stage: Two-Envelope'} \",\n",
       " \"  {'source_document': '/home/pms/llm_project/mm_rag_esg_financial_project/pdf/Bidding_Document_UWS_AGRC.pdf', 'page_number': 28, 'paragraph_number': 1, 'text': 'Criteria), which permits a comprehensive assessment of the Bid cost and the technical merits of each Bid.'} \",\n",
       " \"  {'source_document': '/home/pms/llm_project/mm_rag_esg_financial_project/pdf/Bidding_Document_UWS_AGRC.pdf', 'page_number': 28, 'paragraph_number': 2, 'text': 'Single-Stage: Two-Envelope'} \",\n",
       " \"  {'source_document': '/home/pms/llm_project/mm_rag_esg_financial_project/pdf/Bidding_Document_UWS_AGRC.pdf', 'page_number': 29, 'paragraph_number': 1, 'text': 'made using the method indicated in Section 3 (Evaluation and Qualification Criteria).'} \",\n",
       " \"  {'source_document': '/home/pms/llm_project/mm_rag_esg_financial_project/pdf/Bidding_Document_UWS_AGRC.pdf', 'page_number': 29, 'paragraph_number': 2, 'text': 'Bidding Document for Web System'} \",\n",
       " \"  {'source_document': '/home/pms/llm_project/mm_rag_esg_financial_project/pdf/Bidding_Document_UWS_AGRC.pdf', 'page_number': 29, 'paragraph_number': 3, 'text': 'Single-Stage: Two-Envelope'} \",\n",
       " \"  {'source_document': '/home/pms/llm_project/mm_rag_esg_financial_project/pdf/Bidding_Document_UWS_AGRC.pdf', 'page_number': 30, 'paragraph_number': 1, 'text': 'Single-Stage: Two-Envelope'} \",\n",
       " \"  {'source_document': '/home/pms/llm_project/mm_rag_esg_financial_project/pdf/Bidding_Document_UWS_AGRC.pdf', 'page_number': 31, 'paragraph_number': 1, 'text': 'the Bid Submission Sheet, is specified in Section 3 (Evaluation and Qualification Criteria).'} \",\n",
       " \"  {'source_document': '/home/pms/llm_project/mm_rag_esg_financial_project/pdf/Bidding_Document_UWS_AGRC.pdf', 'page_number': 31, 'paragraph_number': 2, 'text': 'Single-Stage: Two-Envelope'} \",\n",
       " \"  {'source_document': '/home/pms/llm_project/mm_rag_esg_financial_project/pdf/Bidding_Document_UWS_AGRC.pdf', 'page_number': 32, 'paragraph_number': 1, 'text': 'Bidding Document for Web System'} \",\n",
       " \"  {'source_document': '/home/pms/llm_project/mm_rag_esg_financial_project/pdf/Bidding_Document_UWS_AGRC.pdf', 'page_number': 32, 'paragraph_number': 2, 'text': 'Single-Stage: Two-Envelope'} \",\n",
       " \"  {'source_document': '/home/pms/llm_project/mm_rag_esg_financial_project/pdf/Bidding_Document_UWS_AGRC.pdf', 'page_number': 33, 'paragraph_number': 1, 'text': 'Bidding Document for Web System'} \",\n",
       " \"  {'source_document': '/home/pms/llm_project/mm_rag_esg_financial_project/pdf/Bidding_Document_UWS_AGRC.pdf', 'page_number': 33, 'paragraph_number': 2, 'text': 'Procurement of IT Products and Services'} \",\n",
       " \"  {'source_document': '/home/pms/llm_project/mm_rag_esg_financial_project/pdf/Bidding_Document_UWS_AGRC.pdf', 'page_number': 33, 'paragraph_number': 3, 'text': 'Single-Stage: Two-Envelope'} \",\n",
       " \"  {'source_document': '/home/pms/llm_project/mm_rag_esg_financial_project/pdf/Bidding_Document_UWS_AGRC.pdf', 'page_number': 34, 'paragraph_number': 1, 'text': 'Bidding Document for Web System'} \",\n",
       " \"  {'source_document': '/home/pms/llm_project/mm_rag_esg_financial_project/pdf/Bidding_Document_UWS_AGRC.pdf', 'page_number': 34, 'paragraph_number': 2, 'text': 'Single-Stage: Two-Envelope'} \",\n",
       " \"  {'source_document': '/home/pms/llm_project/mm_rag_esg_financial_project/pdf/Bidding_Document_UWS_AGRC.pdf', 'page_number': 35, 'paragraph_number': 1, 'text': 'Subject to the succeeding sentences, any bid not accompanied by an irrevocable'} \",\n",
       " \"  {'source_document': '/home/pms/llm_project/mm_rag_esg_financial_project/pdf/Bidding_Document_UWS_AGRC.pdf', 'page_number': 35, 'paragraph_number': 2, 'text': 'and callable bid security shall be rejected by the Purchaser as nonresponsive. If'} \",\n",
       " \"  {'source_document': '/home/pms/llm_project/mm_rag_esg_financial_project/pdf/Bidding_Document_UWS_AGRC.pdf', 'page_number': 35, 'paragraph_number': 3, 'text': 'a Bidder submits a bid security that (i) deviates in form, amount, and/or period of'} \",\n",
       " \"  {'source_document': '/home/pms/llm_project/mm_rag_esg_financial_project/pdf/Bidding_Document_UWS_AGRC.pdf', 'page_number': 35, 'paragraph_number': 4, 'text': 'validity, or (ii) does not provide sufficient identification of the Bidder (including,'} \",\n",
       " \"  {'source_document': '/home/pms/llm_project/mm_rag_esg_financial_project/pdf/Bidding_Document_UWS_AGRC.pdf', 'page_number': 35, 'paragraph_number': 5, 'text': 'without limitation, failure to indicate the name of the Joint Venture or, where the'} \",\n",
       " \"  {'source_document': '/home/pms/llm_project/mm_rag_esg_financial_project/pdf/Bidding_Document_UWS_AGRC.pdf', 'page_number': 35, 'paragraph_number': 6, 'text': 'Joint Venture has not yet been constituted, the names of all future Joint Venture'} \",\n",
       " \"  {'source_document': '/home/pms/llm_project/mm_rag_esg_financial_project/pdf/Bidding_Document_UWS_AGRC.pdf', 'page_number': 35, 'paragraph_number': 7, 'text': 'Partners), the Purchaser shall request the Bidder to submit a compliant bid'} \",\n",
       " \"  {'source_document': '/home/pms/llm_project/mm_rag_esg_financial_project/pdf/Bidding_Document_UWS_AGRC.pdf', 'page_number': 35, 'paragraph_number': 8, 'text': 'security within 14 days of receiving such a request. Failure to provide a compliant'} \",\n",
       " \"  {'source_document': '/home/pms/llm_project/mm_rag_esg_financial_project/pdf/Bidding_Document_UWS_AGRC.pdf', 'page_number': 35, 'paragraph_number': 9, 'text': 'Single-Stage: Two-Envelope'} \",\n",
       " \"  {'source_document': '/home/pms/llm_project/mm_rag_esg_financial_project/pdf/Bidding_Document_UWS_AGRC.pdf', 'page_number': 36, 'paragraph_number': 1, 'text': 'Electronic procedures for withdrawal, substitution, and modification shall be: Not'} \",\n",
       " \"  {'source_document': '/home/pms/llm_project/mm_rag_esg_financial_project/pdf/Bidding_Document_UWS_AGRC.pdf', 'page_number': 36, 'paragraph_number': 2, 'text': 'The Technical Bid opening shall take place at:'} \",\n",
       " \"  {'source_document': '/home/pms/llm_project/mm_rag_esg_financial_project/pdf/Bidding_Document_UWS_AGRC.pdf', 'page_number': 36, 'paragraph_number': 3, 'text': 'Bidding Document for Web System'} \",\n",
       " \"  {'source_document': '/home/pms/llm_project/mm_rag_esg_financial_project/pdf/Bidding_Document_UWS_AGRC.pdf', 'page_number': 36, 'paragraph_number': 4, 'text': 'Single-Stage: Two-Envelope'} \",\n",
       " \"  {'source_document': '/home/pms/llm_project/mm_rag_esg_financial_project/pdf/Bidding_Document_UWS_AGRC.pdf', 'page_number': 37, 'paragraph_number': 1, 'text': 'Procurement Regulations for ADB Borrowers (Appendix 7). The Bidder should'} \",\n",
       " \"  {'source_document': '/home/pms/llm_project/mm_rag_esg_financial_project/pdf/Bidding_Document_UWS_AGRC.pdf', 'page_number': 37, 'paragraph_number': 2, 'text': 'submit its complaint following these procedures, in writing, to:'} \",\n",
       " \"  {'source_document': '/home/pms/llm_project/mm_rag_esg_financial_project/pdf/Bidding_Document_UWS_AGRC.pdf', 'page_number': 37, 'paragraph_number': 3, 'text': 'Single-Stage: Two-Envelope'} \",\n",
       " \"  {'source_document': '/home/pms/llm_project/mm_rag_esg_financial_project/pdf/Bidding_Document_UWS_AGRC.pdf', 'page_number': 38, 'paragraph_number': 1, 'text': 'Bidding Document for Web System'} \",\n",
       " \"  {'source_document': '/home/pms/llm_project/mm_rag_esg_financial_project/pdf/Bidding_Document_UWS_AGRC.pdf', 'page_number': 38, 'paragraph_number': 2, 'text': 'Procurement of IT Products and Services'} \",\n",
       " \"  {'source_document': '/home/pms/llm_project/mm_rag_esg_financial_project/pdf/Bidding_Document_UWS_AGRC.pdf', 'page_number': 38, 'paragraph_number': 3, 'text': 'Single-Stage: Two-Envelope'} \",\n",
       " \"  {'source_document': '/home/pms/llm_project/mm_rag_esg_financial_project/pdf/Bidding_Document_UWS_AGRC.pdf', 'page_number': 40, 'paragraph_number': 1, 'text': 'The cost of all quantifiable deviations or deficiencies from the technical requirements as specified in Section 6 (Schedule of Requirements) shall be evaluated. The Purchaser will make its own assessment of the cost of these deviations or deficiencies for the purpose of ensuring fair comparison of Bids.'} \",\n",
       " \"  {'source_document': '/home/pms/llm_project/mm_rag_esg_financial_project/pdf/Bidding_Document_UWS_AGRC.pdf', 'page_number': 42, 'paragraph_number': 1, 'text': 'a Nonperformance, as decided by the Purchaser, shall include all contracts where (a) nonperformance was not challenged by'} \",\n",
       " \"  {'source_document': '/home/pms/llm_project/mm_rag_esg_financial_project/pdf/Bidding_Document_UWS_AGRC.pdf', 'page_number': 42, 'paragraph_number': 2, 'text': 'b This requirement also applies to contracts executed by the Bidder as Joint Venture partner.'} \",\n",
       " \"  {'source_document': '/home/pms/llm_project/mm_rag_esg_financial_project/pdf/Bidding_Document_UWS_AGRC.pdf', 'page_number': 43, 'paragraph_number': 1, 'text': 'Pending litigation and arbitration criterion shall not apply.'} \",\n",
       " \"  {'source_document': '/home/pms/llm_project/mm_rag_esg_financial_project/pdf/Bidding_Document_UWS_AGRC.pdf', 'page_number': 43, 'paragraph_number': 2, 'text': 'Bidding Document for Web System'} \",\n",
       " \"  {'source_document': '/home/pms/llm_project/mm_rag_esg_financial_project/pdf/Bidding_Document_UWS_AGRC.pdf', 'page_number': 43, 'paragraph_number': 3, 'text': 'Single-Stage: Two-Envelope'} \",\n",
       " \"  {'source_document': '/home/pms/llm_project/mm_rag_esg_financial_project/pdf/Bidding_Document_UWS_AGRC.pdf', 'page_number': 44, 'paragraph_number': 1, 'text': 'a In addition to the submission of Form EXP-1, the Bidder shall provide the copies of Signed Contract Agreement.'} \",\n",
       " \"  {'source_document': '/home/pms/llm_project/mm_rag_esg_financial_project/pdf/Bidding_Document_UWS_AGRC.pdf', 'page_number': 45, 'paragraph_number': 1, 'text': '(iii) Bidder must have valid ISO'} \",\n",
       " \"  {'source_document': '/home/pms/llm_project/mm_rag_esg_financial_project/pdf/Bidding_Document_UWS_AGRC.pdf', 'page_number': 45, 'paragraph_number': 2, 'text': 'a In addition to the submission of Form EXP-1, the Bidder shall provide the Signed Contract Agreement.'} \",\n",
       " \"  {'source_document': '/home/pms/llm_project/mm_rag_esg_financial_project/pdf/Bidding_Document_UWS_AGRC.pdf', 'page_number': 46, 'paragraph_number': 1, 'text': 'techniques: API development, scripting languages like Java script, frameworks like React, React Native, Ionic, Electron, Flutter, and Angular etc. in Bangladesh. •Backend of the system must utilize any of the following: .net, JAVA (Springbok), Python using Oracle, MySQL, Postgress or any other scaling DB. •TGTDPLC prefers open source technologies with built in cyber security. Other technologies can be considered but vendor must ensure no proprietary use of the technology which requires monthly/yearly additional fees, •Selected vendor must provide full application source code along with documentation of the coding, including version control process and procedures, unit testing, system testing, stress testing, installation, troubleshooting documentation. •Must utilize MessageQue using one of the following but not limited to: RabbitMQ, Apache Kafka, Apache Pulsar. For fast caching utilization of any of the following but not limited to'} \",\n",
       " \"  {'source_document': '/home/pms/llm_project/mm_rag_esg_financial_project/pdf/Bidding_Document_UWS_AGRC.pdf', 'page_number': 46, 'paragraph_number': 2, 'text': 'Redis, or Memcached or'} \",\n",
       " \"  {'source_document': '/home/pms/llm_project/mm_rag_esg_financial_project/pdf/Bidding_Document_UWS_AGRC.pdf', 'page_number': 46, 'paragraph_number': 3, 'text': 'working on programming to where'} \",\n",
       " \"  {'source_document': '/home/pms/llm_project/mm_rag_esg_financial_project/pdf/Bidding_Document_UWS_AGRC.pdf', 'page_number': 46, 'paragraph_number': 4, 'text': 'which required to read and write'} \",\n",
       " \"  {'source_document': '/home/pms/llm_project/mm_rag_esg_financial_project/pdf/Bidding_Document_UWS_AGRC.pdf', 'page_number': 46, 'paragraph_number': 5, 'text': 'data (measuring equipment like'} \",\n",
       " \"  {'source_document': '/home/pms/llm_project/mm_rag_esg_financial_project/pdf/Bidding_Document_UWS_AGRC.pdf', 'page_number': 46, 'paragraph_number': 6, 'text': 'using technologies like GPRS,'} \",\n",
       " \"  {'source_document': '/home/pms/llm_project/mm_rag_esg_financial_project/pdf/Bidding_Document_UWS_AGRC.pdf', 'page_number': 46, 'paragraph_number': 7, 'text': 'troubleshooting, and maintaining'} \",\n",
       " \"  {'source_document': '/home/pms/llm_project/mm_rag_esg_financial_project/pdf/Bidding_Document_UWS_AGRC.pdf', 'page_number': 47, 'paragraph_number': 1, 'text': 'English is essential.'} \",\n",
       " \"  {'source_document': '/home/pms/llm_project/mm_rag_esg_financial_project/pdf/Bidding_Document_UWS_AGRC.pdf', 'page_number': 47, 'paragraph_number': 2, 'text': 'a Bidder or Manufacturer shall provide evidence of production output.'} \",\n",
       " \"  {'source_document': '/home/pms/llm_project/mm_rag_esg_financial_project/pdf/Bidding_Document_UWS_AGRC.pdf', 'page_number': 49, 'paragraph_number': 1, 'text': 'Bidding Document for Web System'} \",\n",
       " \"  {'source_document': '/home/pms/llm_project/mm_rag_esg_financial_project/pdf/Bidding_Document_UWS_AGRC.pdf', 'page_number': 49, 'paragraph_number': 2, 'text': 'Single-Stage: Two-Envelope'} \",\n",
       " \"  {'source_document': '/home/pms/llm_project/mm_rag_esg_financial_project/pdf/Bidding_Document_UWS_AGRC.pdf', 'page_number': 51, 'paragraph_number': 1, 'text': 'Costs for inland transportation, insurance, and other incidental costs for delivery of the IT products from the EXW premises, or port of entry, or border point to project site as defined in Section 6 (Schedule of Requirements), shall be quoted in the Price Schedule for Services to Be Offered from Outside and Within the Purchaser’s Country provided In Section 4 (Bidding Forms). These costs will be taken into account during bid evaluation. If a Bidder fails to include such costs in its Bid, then these costs will be estimated by the Purchaser on the basis of published tariffs by the rail or road transport agencies, insurance companies, or other appropriate sources, and added to EXW or CIP price.'} \",\n",
       " \"  {'source_document': '/home/pms/llm_project/mm_rag_esg_financial_project/pdf/Bidding_Document_UWS_AGRC.pdf', 'page_number': 51, 'paragraph_number': 2, 'text': 'Pursuant to ITB 33.3, the cost of all quantifiable nonmaterial nonconformities or omissions from the contractual and commercial conditions shall be evaluated, including technical features identified as ‘Mandatory’ (or implied as mandatory by the use of the word ‘must’) in Section 6 (Schedule of Requirements) and for which nonconformance does not require rejection for non-responsiveness. The Purchaser will make its own assessment of the cost of any nonmaterial nonconformities and omissions, for the purpose of ensuring fair comparison of Bids.'} \",\n",
       " \"  {'source_document': '/home/pms/llm_project/mm_rag_esg_financial_project/pdf/Bidding_Document_UWS_AGRC.pdf', 'page_number': 51, 'paragraph_number': 3, 'text': 'Deviations from the Terms of Payment as specified in SCC 16.1 are not permitted.'} \",\n",
       " \"  {'source_document': '/home/pms/llm_project/mm_rag_esg_financial_project/pdf/Bidding_Document_UWS_AGRC.pdf', 'page_number': 51, 'paragraph_number': 4, 'text': 'Deviations from the Delivery and Completion Schedule specified in Section 6 (Schedule of Requirement) are not permitted.'} \",\n",
       " \"  {'source_document': '/home/pms/llm_project/mm_rag_esg_financial_project/pdf/Bidding_Document_UWS_AGRC.pdf', 'page_number': 51, 'paragraph_number': 5, 'text': 'The O&M costs quoted by the Bidder in Section-4: Bidding Forms shall not be part of the Bid Evaluation. The successful bidder shall have obligation to enter into a separate contract with the Employer for the period stated below which will be after expiration of the Defect Liability Period. The fund will be provided by the Employer’s own fund. The Employer will negotiate and instruct to successful Bidder for rational of the O&M costs quoted for cost factors.'} \",\n",
       " \"  {'source_document': '/home/pms/llm_project/mm_rag_esg_financial_project/pdf/Bidding_Document_UWS_AGRC.pdf', 'page_number': 51, 'paragraph_number': 6, 'text': 'The O&M cost factors for calculating the life cycle cost are as follows:'} \",\n",
       " \"  {'source_document': '/home/pms/llm_project/mm_rag_esg_financial_project/pdf/Bidding_Document_UWS_AGRC.pdf', 'page_number': 51, 'paragraph_number': 7, 'text': 'Single-Stage: Two-Envelope'} \",\n",
       " \"  {'source_document': '/home/pms/llm_project/mm_rag_esg_financial_project/pdf/Bidding_Document_UWS_AGRC.pdf', 'page_number': 52, 'paragraph_number': 1, 'text': 'Not applicable'} \",\n",
       " \"  {'source_document': '/home/pms/llm_project/mm_rag_esg_financial_project/pdf/Bidding_Document_UWS_AGRC.pdf', 'page_number': 52, 'paragraph_number': 2, 'text': 'The proposed vendor must demonstrate how they will handle a large amount of customer data in a cloud database (DB) including consideration of database design, performance optimization, and scalability:'} \",\n",
       " \"  {'source_document': '/home/pms/llm_project/mm_rag_esg_financial_project/pdf/Bidding_Document_UWS_AGRC.pdf', 'page_number': 53, 'paragraph_number': 1, 'text': 'a. Data Security: The system must meet the required data protection mechanisms, including encryption, access controls, and compliance with data privacy regulations as outlined in section 6.'} \",\n",
       " \"  {'source_document': '/home/pms/llm_project/mm_rag_esg_financial_project/pdf/Bidding_Document_UWS_AGRC.pdf', 'page_number': 53, 'paragraph_number': 2, 'text': 'b. Authentication and Authorization: The system must meet the required user authentication and authorization features to ensure that sensitive data is only accessible to authorized personnel as outlined in section 6.'} \",\n",
       " \"  {'source_document': '/home/pms/llm_project/mm_rag_esg_financial_project/pdf/Bidding_Document_UWS_AGRC.pdf', 'page_number': 53, 'paragraph_number': 3, 'text': 'c. Security Updates: Software vendor must provide timely security updates and patches as outlined in section 6.'} \",\n",
       " \"  {'source_document': '/home/pms/llm_project/mm_rag_esg_financial_project/pdf/Bidding_Document_UWS_AGRC.pdf', 'page_number': 53, 'paragraph_number': 4, 'text': 'a. Vendor Support: Software vendor must provide support, including response times, availability of technical support, and service-level agreements (SLAs) as outlined in section 6.'} \",\n",
       " \"  {'source_document': '/home/pms/llm_project/mm_rag_esg_financial_project/pdf/Bidding_Document_UWS_AGRC.pdf', 'page_number': 53, 'paragraph_number': 5, 'text': 'b. Maintenance and Updates: Software vendor must mention frequency and ease of software updates and upgrades as outlined in section 6.'} \",\n",
       " \"  {'source_document': '/home/pms/llm_project/mm_rag_esg_financial_project/pdf/Bidding_Document_UWS_AGRC.pdf', 'page_number': 53, 'paragraph_number': 6, 'text': 'a. Customer Software Costs: TGTDPLC wishes to own the source code and recommend not using any proprietary software or services to develop the software which requires licensing costs, ongoing subscription fees, and any hidden expenses.'} \",\n",
       " \"  {'source_document': '/home/pms/llm_project/mm_rag_esg_financial_project/pdf/Bidding_Document_UWS_AGRC.pdf', 'page_number': 53, 'paragraph_number': 7, 'text': 'a. Cloud Costs: TGTDPLC will pay directly for the e-Gov Cloud and associated cost for the hosting of the developed software.'} \",\n",
       " \"  {'source_document': '/home/pms/llm_project/mm_rag_esg_financial_project/pdf/Bidding_Document_UWS_AGRC.pdf', 'page_number': 53, 'paragraph_number': 8, 'text': 'b. Implementation Costs: Software vendor must provide the cost of implementation, including customization and integration efforts.'} \",\n",
       " \"  {'source_document': '/home/pms/llm_project/mm_rag_esg_financial_project/pdf/Bidding_Document_UWS_AGRC.pdf', 'page_number': 54, 'paragraph_number': 1, 'text': 'c. Operational Costs: Software vendor must provide an estimated ongoing operational expenses, including hosting, maintenance, and support.'} \",\n",
       " \"  {'source_document': '/home/pms/llm_project/mm_rag_esg_financial_project/pdf/Bidding_Document_UWS_AGRC.pdf', 'page_number': 54, 'paragraph_number': 2, 'text': 'a. User Reviews: Software vendor must agree to TGTDPLC’s ability to gather feedback from current users of the vendor references who are using similar software developed by the vendor to understand their experiences and productivity gains.'} \",\n",
       " \"  {'source_document': '/home/pms/llm_project/mm_rag_esg_financial_project/pdf/Bidding_Document_UWS_AGRC.pdf', 'page_number': 54, 'paragraph_number': 3, 'text': 'b. Vendor References: Software vendor must agree to TGTDPLC’s ability to contact the references provided by the vendor that have successfully implemented the software.'} \",\n",
       " \"  {'source_document': '/home/pms/llm_project/mm_rag_esg_financial_project/pdf/Bidding_Document_UWS_AGRC.pdf', 'page_number': 54, 'paragraph_number': 4, 'text': 'None.'} \",\n",
       " \"  {'source_document': '/home/pms/llm_project/mm_rag_esg_financial_project/pdf/Bidding_Document_UWS_AGRC.pdf', 'page_number': 54, 'paragraph_number': 5, 'text': 'The Purchaser will evaluate and compare the Bids that have been determined to be substantially responsive, pursuant to ITB 39.'} \",\n",
       " \"  {'source_document': '/home/pms/llm_project/mm_rag_esg_financial_project/pdf/Bidding_Document_UWS_AGRC.pdf', 'page_number': 54, 'paragraph_number': 6, 'text': 'The Most Advantageous Bid shall be the lowest evaluated substantially responsive bid.'} \",\n",
       " \"  {'source_document': '/home/pms/llm_project/mm_rag_esg_financial_project/pdf/Bidding_Document_UWS_AGRC.pdf', 'page_number': 54, 'paragraph_number': 7, 'text': 'The Purchaser will evaluate price bids, pursuant to ITB Clause 39, using the above weighting. Not applicable.'} \",\n",
       " \"  {'source_document': '/home/pms/llm_project/mm_rag_esg_financial_project/pdf/Bidding_Document_UWS_AGRC.pdf', 'page_number': 54, 'paragraph_number': 8, 'text': 'If domestic preference is provided for under ITB 38.1, the following procedure shall apply:'} \",\n",
       " \"  {'source_document': '/home/pms/llm_project/mm_rag_esg_financial_project/pdf/Bidding_Document_UWS_AGRC.pdf', 'page_number': 54, 'paragraph_number': 9, 'text': '(a) Group A: bids exclusively offering IT products manufactured in the country of the borrower if the bidder establishes to the satisfaction of the borrower and ADB that (i) labor, raw material, and components from within the country of the borrower will account for 30% or more of the EXW price of the product offered, and (ii) the production facility in which those IT products will be manufactured or assembled has been engaged in manufacturing or assembling such IT products at least since the time of bid submission.'} \",\n",
       " \"  {'source_document': '/home/pms/llm_project/mm_rag_esg_financial_project/pdf/Bidding_Document_UWS_AGRC.pdf', 'page_number': 54, 'paragraph_number': 10, 'text': '(b) Group B: all other bids offering IT products manufactured in the country of the Borrower.'} \",\n",
       " \"  {'source_document': '/home/pms/llm_project/mm_rag_esg_financial_project/pdf/Bidding_Document_UWS_AGRC.pdf', 'page_number': 54, 'paragraph_number': 11, 'text': '(c) Group C: bids offering IT products manufactured abroad that have been already imported or that will be directly imported.'} \",\n",
       " \"  {'source_document': '/home/pms/llm_project/mm_rag_esg_financial_project/pdf/Bidding_Document_UWS_AGRC.pdf', 'page_number': 55, 'paragraph_number': 1, 'text': 'Not applicable.'} \",\n",
       " \"  {'source_document': '/home/pms/llm_project/mm_rag_esg_financial_project/pdf/Bidding_Document_UWS_AGRC.pdf', 'page_number': 55, 'paragraph_number': 2, 'text': 'Bidding Document for Web System'} \",\n",
       " \"  {'source_document': '/home/pms/llm_project/mm_rag_esg_financial_project/pdf/Bidding_Document_UWS_AGRC.pdf', 'page_number': 55, 'paragraph_number': 3, 'text': 'Single-Stage: Two-Envelope'} \",\n",
       " \"  {'source_document': '/home/pms/llm_project/mm_rag_esg_financial_project/pdf/Bidding_Document_UWS_AGRC.pdf', 'page_number': 57, 'paragraph_number': 1, 'text': 'Bidding Document for Web System'} \",\n",
       " \"  {'source_document': '/home/pms/llm_project/mm_rag_esg_financial_project/pdf/Bidding_Document_UWS_AGRC.pdf', 'page_number': 57, 'paragraph_number': 2, 'text': 'Single-Stage: Two-Envelope'} \",\n",
       " \"  {'source_document': '/home/pms/llm_project/mm_rag_esg_financial_project/pdf/Bidding_Document_UWS_AGRC.pdf', 'page_number': 58, 'paragraph_number': 1, 'text': 'BIDDER’S QUALIFICATION ...................................................................................... 106 FORM ELI - 1: BIDDER’S INFORMATION SHEET ............................................................... 107 FORM ELI - 2: JOINT VENTURE INFORMATION SHEET ...................................................... 108 FORM CON – 1: HISTORICAL CONTRACT NONPERFORMANCE ......................................... 109 FORM EXP - 1: CONTRACTUAL EXPERIENCE .................................................................. 110 FORM EXP - 2: TECHNICAL EXPERIENCE ....................................................................... 111 FORM EXP - 3: PRODUCTION CAPACITY ........................................................................ 112 FORM FIN - 2: SIZE OF OPERATION (AVERAGE ANNUAL TURNOVER) ............................... 114 FORM FIN - 3: CASH FLOW CAPACITY ........................................................................... 115'} \",\n",
       " \"  {'source_document': '/home/pms/llm_project/mm_rag_esg_financial_project/pdf/Bidding_Document_UWS_AGRC.pdf', 'page_number': 58, 'paragraph_number': 2, 'text': 'Bidding Document for Web System'} \",\n",
       " \"  {'source_document': '/home/pms/llm_project/mm_rag_esg_financial_project/pdf/Bidding_Document_UWS_AGRC.pdf', 'page_number': 58, 'paragraph_number': 3, 'text': 'Procurement of IT Products and Services'} \",\n",
       " \"  {'source_document': '/home/pms/llm_project/mm_rag_esg_financial_project/pdf/Bidding_Document_UWS_AGRC.pdf', 'page_number': 58, 'paragraph_number': 4, 'text': 'Single-Stage: Two-Envelope'} \",\n",
       " \"  {'source_document': '/home/pms/llm_project/mm_rag_esg_financial_project/pdf/Bidding_Document_UWS_AGRC.pdf', 'page_number': 59, 'paragraph_number': 1, 'text': 'The Bidder must accomplish the Letter of Technical Bid on its letterhead clearly showing the Bidder’s complete name and address.'} \",\n",
       " \"  {'source_document': '/home/pms/llm_project/mm_rag_esg_financial_project/pdf/Bidding_Document_UWS_AGRC.pdf', 'page_number': 59, 'paragraph_number': 2, 'text': 'Open Competitive Bidding (OCB) No.: Invitation for Bid (IFB) No.: Alternative No.:'} \",\n",
       " \"  {'source_document': '/home/pms/llm_project/mm_rag_esg_financial_project/pdf/Bidding_Document_UWS_AGRC.pdf', 'page_number': 59, 'paragraph_number': 3, 'text': 'To: [insert complete name of the Purchaser]'} \",\n",
       " \"  {'source_document': '/home/pms/llm_project/mm_rag_esg_financial_project/pdf/Bidding_Document_UWS_AGRC.pdf', 'page_number': 59, 'paragraph_number': 4, 'text': 'We, the undersigned, declare that:'} \",\n",
       " \"  {'source_document': '/home/pms/llm_project/mm_rag_esg_financial_project/pdf/Bidding_Document_UWS_AGRC.pdf', 'page_number': 59, 'paragraph_number': 5, 'text': 'If there is any conflict of interest, please state details:'} \",\n",
       " \"  {'source_document': '/home/pms/llm_project/mm_rag_esg_financial_project/pdf/Bidding_Document_UWS_AGRC.pdf', 'page_number': 59, 'paragraph_number': 6, 'text': 'Single-Stage: Two-Envelope'} \",\n",
       " \"  {'source_document': '/home/pms/llm_project/mm_rag_esg_financial_project/pdf/Bidding_Document_UWS_AGRC.pdf', 'page_number': 60, 'paragraph_number': 1, 'text': 'If under ongoing investigation and/or sanction proceedings by the Asian Development Bank or any multilateral development bank, please state details:'} \",\n",
       " \"  {'source_document': '/home/pms/llm_project/mm_rag_esg_financial_project/pdf/Bidding_Document_UWS_AGRC.pdf', 'page_number': 60, 'paragraph_number': 2, 'text': 'If so temporarily suspended, debarred, declared ineligible, or subject to any national and/or international sanctions by any country, any international organization, any multilateral development bank and other donor agency, please state details (as applicable to each Joint Venture partner, their respective direct or indirect shareholders, directors, key officers, key personnel, associate, parent company, affiliate, subsidiaries, Subcontractors, consultants, subconsultants, manufacturers, service providers and/or Suppliers):'} \",\n",
       " \"  {'source_document': '/home/pms/llm_project/mm_rag_esg_financial_project/pdf/Bidding_Document_UWS_AGRC.pdf', 'page_number': 60, 'paragraph_number': 3, 'text': 'Procurement of IT Products and Services Single-Stage: Two-Envelope'} \",\n",
       " \"  {'source_document': '/home/pms/llm_project/mm_rag_esg_financial_project/pdf/Bidding_Document_UWS_AGRC.pdf', 'page_number': 61, 'paragraph_number': 1, 'text': 'proceedings in the last 10 years; or undergoing investigation for such, or subject to any criminal, civil or administrative orders, monitorship or enforcement actions.'} \",\n",
       " \"  {'source_document': '/home/pms/llm_project/mm_rag_esg_financial_project/pdf/Bidding_Document_UWS_AGRC.pdf', 'page_number': 61, 'paragraph_number': 2, 'text': 'If so charged, convicted/found liable, under ongoing investigation, or subject to orders, monitorship or enforcement actions, please state details:'} \",\n",
       " \"  {'source_document': '/home/pms/llm_project/mm_rag_esg_financial_project/pdf/Bidding_Document_UWS_AGRC.pdf', 'page_number': 61, 'paragraph_number': 3, 'text': '(iii) Resolution [i.e. dismissed; settled; or convicted/duration of penalty]: __________________'} \",\n",
       " \"  {'source_document': '/home/pms/llm_project/mm_rag_esg_financial_project/pdf/Bidding_Document_UWS_AGRC.pdf', 'page_number': 61, 'paragraph_number': 4, 'text': '(iv) Other relevant details [please specify]: _______________'} \",\n",
       " \"  {'source_document': '/home/pms/llm_project/mm_rag_esg_financial_project/pdf/Bidding_Document_UWS_AGRC.pdf', 'page_number': 61, 'paragraph_number': 5, 'text': 'If unable to make or receive funds through the international banking system or otherwise discharge the Purchaser’s obligation upon initiation of wire transfer, please state the details:'} \",\n",
       " \"  {'source_document': '/home/pms/llm_project/mm_rag_esg_financial_project/pdf/Bidding_Document_UWS_AGRC.pdf', 'page_number': 61, 'paragraph_number': 6, 'text': 'Bidding Document for Web System'} \",\n",
       " \"  {'source_document': '/home/pms/llm_project/mm_rag_esg_financial_project/pdf/Bidding_Document_UWS_AGRC.pdf', 'page_number': 61, 'paragraph_number': 7, 'text': 'Single-Stage: Two-Envelope'} \",\n",
       " \"  {'source_document': '/home/pms/llm_project/mm_rag_esg_financial_project/pdf/Bidding_Document_UWS_AGRC.pdf', 'page_number': 62, 'paragraph_number': 1, 'text': 'subsidiaries, including any Subcontractors, consultants, subconsultants, manufacturers, service providers or Suppliers for any part of the contract to permit ADB or its representative to inspect our site, assets, accounts and records and other documents relating to the bid submission and to have them audited by auditors appointed by ADB. We understand that failure of this obligation may constitute obstructive practice that may result in debarment and/or contract termination.'} \",\n",
       " \"  {'source_document': '/home/pms/llm_project/mm_rag_esg_financial_project/pdf/Bidding_Document_UWS_AGRC.pdf', 'page_number': 62, 'paragraph_number': 2, 'text': 'Bidding Document for Web System'} \",\n",
       " \"  {'source_document': '/home/pms/llm_project/mm_rag_esg_financial_project/pdf/Bidding_Document_UWS_AGRC.pdf', 'page_number': 62, 'paragraph_number': 3, 'text': 'Single-Stage: Two-Envelope'} \",\n",
       " \"  {'source_document': '/home/pms/llm_project/mm_rag_esg_financial_project/pdf/Bidding_Document_UWS_AGRC.pdf', 'page_number': 66, 'paragraph_number': 1, 'text': 'G1.2 GTP of Cloud Instance Type – II'} \",\n",
       " \"  {'source_document': '/home/pms/llm_project/mm_rag_esg_financial_project/pdf/Bidding_Document_UWS_AGRC.pdf', 'page_number': 67, 'paragraph_number': 1, 'text': 'G 2.1 GTP of Auto Scaling Service (Setup desired, min, max Instances as per schedular or specified rules)'} \",\n",
       " \"  {'source_document': '/home/pms/llm_project/mm_rag_esg_financial_project/pdf/Bidding_Document_UWS_AGRC.pdf', 'page_number': 68, 'paragraph_number': 1, 'text': 'managing, and troubleshooting auto scaling services.'} \",\n",
       " \"  {'source_document': '/home/pms/llm_project/mm_rag_esg_financial_project/pdf/Bidding_Document_UWS_AGRC.pdf', 'page_number': 77, 'paragraph_number': 1, 'text': 'requirements (critical for handling traffic spikes).'} \",\n",
       " \"  {'source_document': '/home/pms/llm_project/mm_rag_esg_financial_project/pdf/Bidding_Document_UWS_AGRC.pdf', 'page_number': 79, 'paragraph_number': 1, 'text': 'G 2.5 GTP of Logging Service (Monitor Cloud Resources and Applications)'} \",\n",
       " \"  {'source_document': '/home/pms/llm_project/mm_rag_esg_financial_project/pdf/Bidding_Document_UWS_AGRC.pdf', 'page_number': 79, 'paragraph_number': 2, 'text': 'identifying trends and anomalies.'} \",\n",
       " \"  {'source_document': '/home/pms/llm_project/mm_rag_esg_financial_project/pdf/Bidding_Document_UWS_AGRC.pdf', 'page_number': 82, 'paragraph_number': 1, 'text': 'G 2.6 GTP of Web application Firewall(WAF) Services'} \",\n",
       " \"  {'source_document': '/home/pms/llm_project/mm_rag_esg_financial_project/pdf/Bidding_Document_UWS_AGRC.pdf', 'page_number': 85, 'paragraph_number': 1, 'text': 'instances based on traffic load (horizontal scaling).'} \",\n",
       " \"  {'source_document': '/home/pms/llm_project/mm_rag_esg_financial_project/pdf/Bidding_Document_UWS_AGRC.pdf', 'page_number': 88, 'paragraph_number': 1, 'text': 'G 2.8 GTP of Antivirus and patch management'} \",\n",
       " \"  {'source_document': '/home/pms/llm_project/mm_rag_esg_financial_project/pdf/Bidding_Document_UWS_AGRC.pdf', 'page_number': 90, 'paragraph_number': 1, 'text': 'centralized analysis and visualization of DNS activity.'} \",\n",
       " \"  {'source_document': '/home/pms/llm_project/mm_rag_esg_financial_project/pdf/Bidding_Document_UWS_AGRC.pdf', 'page_number': 95, 'paragraph_number': 1, 'text': 'G 2.11 GTP of Storage services - Storing and serving static content like images, documents, etc'} \",\n",
       " \"  {'source_document': '/home/pms/llm_project/mm_rag_esg_financial_project/pdf/Bidding_Document_UWS_AGRC.pdf', 'page_number': 98, 'paragraph_number': 1, 'text': 'G 2.12 GTP of Email Services - Hosted email service for sending any kind of email'} \",\n",
       " \"  {'source_document': '/home/pms/llm_project/mm_rag_esg_financial_project/pdf/Bidding_Document_UWS_AGRC.pdf', 'page_number': 104, 'paragraph_number': 1, 'text': 'G3.1 GTP of Cloud Instance Type – I'} \",\n",
       " \"  {'source_document': '/home/pms/llm_project/mm_rag_esg_financial_project/pdf/Bidding_Document_UWS_AGRC.pdf', 'page_number': 105, 'paragraph_number': 1, 'text': 'G3.2 GTP of Cloud Instance Type – II'} \",\n",
       " \"  {'source_document': '/home/pms/llm_project/mm_rag_esg_financial_project/pdf/Bidding_Document_UWS_AGRC.pdf', 'page_number': 130, 'paragraph_number': 1, 'text': 'needed'} \",\n",
       " \"  {'source_document': '/home/pms/llm_project/mm_rag_esg_financial_project/pdf/Bidding_Document_UWS_AGRC.pdf', 'page_number': 143, 'paragraph_number': 1, 'text': 'The Bidder must accomplish the Letter of Price Bid on its letterhead clearly showing the Bidder’s complete name and'} \",\n",
       " \"  {'source_document': '/home/pms/llm_project/mm_rag_esg_financial_project/pdf/Bidding_Document_UWS_AGRC.pdf', 'page_number': 143, 'paragraph_number': 2, 'text': 'To: [insert complete name of the Purchaser]'} \",\n",
       " \"  {'source_document': '/home/pms/llm_project/mm_rag_esg_financial_project/pdf/Bidding_Document_UWS_AGRC.pdf', 'page_number': 143, 'paragraph_number': 3, 'text': 'We, the undersigned, declare that:'} \",\n",
       " \"  {'source_document': '/home/pms/llm_project/mm_rag_esg_financial_project/pdf/Bidding_Document_UWS_AGRC.pdf', 'page_number': 143, 'paragraph_number': 4, 'text': '[amount of foreign currency in words], [amount in figures], and [amount of local currency in words], [amount in figures]'} \",\n",
       " \"  {'source_document': '/home/pms/llm_project/mm_rag_esg_financial_project/pdf/Bidding_Document_UWS_AGRC.pdf', 'page_number': 143, 'paragraph_number': 5, 'text': 'The total bid price from the price schedules should be entered by the bidder inside this box. Absence of the total bid price in the Letter of Price Bid may result in the rejection of the bid.'} \",\n",
       " \"  {'source_document': '/home/pms/llm_project/mm_rag_esg_financial_project/pdf/Bidding_Document_UWS_AGRC.pdf', 'page_number': 143, 'paragraph_number': 6, 'text': 'Discounts: If our Bid is accepted, the following discounts shall apply: [specify in detail each discount offered and the specific item of the Schedule of Requirements to which it applies]'} \",\n",
       " \"  {'source_document': '/home/pms/llm_project/mm_rag_esg_financial_project/pdf/Bidding_Document_UWS_AGRC.pdf', 'page_number': 143, 'paragraph_number': 7, 'text': 'Methodology of Application of the Discounts: The discounts shall be applied using the following method: [specify in detail the method that shall be used to apply the discounts]'} \",\n",
       " \"  {'source_document': '/home/pms/llm_project/mm_rag_esg_financial_project/pdf/Bidding_Document_UWS_AGRC.pdf', 'page_number': 144, 'paragraph_number': 1, 'text': 'In the capacity of'} \",\n",
       " \"  {'source_document': '/home/pms/llm_project/mm_rag_esg_financial_project/pdf/Bidding_Document_UWS_AGRC.pdf', 'page_number': 144, 'paragraph_number': 2, 'text': 'Signed'} \",\n",
       " \"  {'source_document': '/home/pms/llm_project/mm_rag_esg_financial_project/pdf/Bidding_Document_UWS_AGRC.pdf', 'page_number': 144, 'paragraph_number': 3, 'text': 'Duly authorized to sign the Bid for and on behalf of'} \",\n",
       " \"  {'source_document': '/home/pms/llm_project/mm_rag_esg_financial_project/pdf/Bidding_Document_UWS_AGRC.pdf', 'page_number': 145, 'paragraph_number': 1, 'text': 'The Bidder shall complete and submit with its Bid the Price Schedules pursuant to ITB 12 and in accordance with Part 2 Supply Requirements, Section 6 (Schedule of Requirements). The list of items in column 1 of the Price Schedules shall coincide with the List of IT Products and Services specified by the Purchaser in the Schedule of Requirements.'} \",\n",
       " \"  {'source_document': '/home/pms/llm_project/mm_rag_esg_financial_project/pdf/Bidding_Document_UWS_AGRC.pdf', 'page_number': 145, 'paragraph_number': 2, 'text': 'The units and rates in figures entered into the Price Schedules should be typewritten or if written by hand, must be in print form. Price Schedules not presented accordingly may be considered nonresponsive. Any necessary alterations due to errors, etc., shall be signed by the Bidder'} \",\n",
       " \"  {'source_document': '/home/pms/llm_project/mm_rag_esg_financial_project/pdf/Bidding_Document_UWS_AGRC.pdf', 'page_number': 147, 'paragraph_number': 1, 'text': 'Storing and serving'} \",\n",
       " \"  {'source_document': '/home/pms/llm_project/mm_rag_esg_financial_project/pdf/Bidding_Document_UWS_AGRC.pdf', 'page_number': 148, 'paragraph_number': 1, 'text': 'In accordance with margin of preference ITB 38, if applicable. Domestic Value Added comprises domestic labor, the domestic content of materials, domestic overheads and profits from the stage of mining the raw material until final assembly.'} \",\n",
       " \"  {'source_document': '/home/pms/llm_project/mm_rag_esg_financial_project/pdf/Bidding_Document_UWS_AGRC.pdf', 'page_number': 148, 'paragraph_number': 2, 'text': 'Price shall include all customs duties and sales and other taxes already paid or payable on the components'} \",\n",
       " \"  {'source_document': '/home/pms/llm_project/mm_rag_esg_financial_project/pdf/Bidding_Document_UWS_AGRC.pdf', 'page_number': 148, 'paragraph_number': 3, 'text': 'and raw materials used in the manufacture or assembly of the item or the customs duties and sales and other'} \",\n",
       " \"  {'source_document': '/home/pms/llm_project/mm_rag_esg_financial_project/pdf/Bidding_Document_UWS_AGRC.pdf', 'page_number': 148, 'paragraph_number': 4, 'text': 'taxes already paid on previously imported items.'} \",\n",
       " \"  {'source_document': '/home/pms/llm_project/mm_rag_esg_financial_project/pdf/Bidding_Document_UWS_AGRC.pdf', 'page_number': 148, 'paragraph_number': 5, 'text': 'Column 8: Payable in the Purchaser’s country if Contract is awarded'} \",\n",
       " \"  {'source_document': '/home/pms/llm_project/mm_rag_esg_financial_project/pdf/Bidding_Document_UWS_AGRC.pdf', 'page_number': 148, 'paragraph_number': 6, 'text': 'Name'} \",\n",
       " \"  {'source_document': '/home/pms/llm_project/mm_rag_esg_financial_project/pdf/Bidding_Document_UWS_AGRC.pdf', 'page_number': 148, 'paragraph_number': 7, 'text': 'Duly authorized to sign the Bid for and on behalf of'} \",\n",
       " \"  {'source_document': '/home/pms/llm_project/mm_rag_esg_financial_project/pdf/Bidding_Document_UWS_AGRC.pdf', 'page_number': 150, 'paragraph_number': 1, 'text': 'Duly authorized to sign the Bid for and on behalf of'} \",\n",
       " \"  {'source_document': '/home/pms/llm_project/mm_rag_esg_financial_project/pdf/Bidding_Document_UWS_AGRC.pdf', 'page_number': 151, 'paragraph_number': 1, 'text': 'Columns 5 and 6: Currencies in accordance with ITB 15'} \",\n",
       " \"  {'source_document': '/home/pms/llm_project/mm_rag_esg_financial_project/pdf/Bidding_Document_UWS_AGRC.pdf', 'page_number': 151, 'paragraph_number': 2, 'text': 'Prices are to be quoted inclusive of all customs duties, sales and other similar taxes applicable in the Purchaser’s country and payable on the Related Services, if the Contract is awarded to the Bidder'} \",\n",
       " \"  {'source_document': '/home/pms/llm_project/mm_rag_esg_financial_project/pdf/Bidding_Document_UWS_AGRC.pdf', 'page_number': 151, 'paragraph_number': 3, 'text': 'Duly authorized to sign the Bid for and on behalf of'} \",\n",
       " \"  {'source_document': '/home/pms/llm_project/mm_rag_esg_financial_project/pdf/Bidding_Document_UWS_AGRC.pdf', 'page_number': 153, 'paragraph_number': 1, 'text': 'In the capacity of'} \",\n",
       " \"  {'source_document': '/home/pms/llm_project/mm_rag_esg_financial_project/pdf/Bidding_Document_UWS_AGRC.pdf', 'page_number': 153, 'paragraph_number': 2, 'text': 'Duly authorized to sign the Bid for and on behalf of'} \",\n",
       " \"  {'source_document': '/home/pms/llm_project/mm_rag_esg_financial_project/pdf/Bidding_Document_UWS_AGRC.pdf', 'page_number': 154, 'paragraph_number': 1, 'text': 'Name'} \",\n",
       " \"  {'source_document': '/home/pms/llm_project/mm_rag_esg_financial_project/pdf/Bidding_Document_UWS_AGRC.pdf', 'page_number': 154, 'paragraph_number': 2, 'text': 'Duly authorized to sign the Bid for and on behalf of'} \",\n",
       " \"  {'source_document': '/home/pms/llm_project/mm_rag_esg_financial_project/pdf/Bidding_Document_UWS_AGRC.pdf', 'page_number': 155, 'paragraph_number': 1, 'text': 'Name of Currency: [insert name of currency. If the bidder wishes to quote in more than one foreign currency, this table should be repeated for each foreign currency]'} \",\n",
       " \"  {'source_document': '/home/pms/llm_project/mm_rag_esg_financial_project/pdf/Bidding_Document_UWS_AGRC.pdf', 'page_number': 155, 'paragraph_number': 2, 'text': 'Tables of Adjustment Data shall only be included if prices are to be quoted as adjustable prices in accordance with'} \",\n",
       " \"  {'source_document': '/home/pms/llm_project/mm_rag_esg_financial_project/pdf/Bidding_Document_UWS_AGRC.pdf', 'page_number': 156, 'paragraph_number': 1, 'text': 'When requested in the Bid Data Sheet, the Bidder shall furnish as part of its bid, either a Bid-Securing Declaration or a Bid Security.'} \",\n",
       " \"  {'source_document': '/home/pms/llm_project/mm_rag_esg_financial_project/pdf/Bidding_Document_UWS_AGRC.pdf', 'page_number': 156, 'paragraph_number': 2, 'text': 'In case of an unconditional guarantee issued by a bank, the Bidder shall use the Bid Security Form included in this section or another form acceptable to the Purchaser prior to bid submission pursuant to ITB 21.3. In either case, the form must include the complete name of the Bidder. The bid security shall be valid for number of days as specified in the BDS beyond the original validity period of the Bid, or beyond any period of extension if requested under ITB 20.2.'} \",\n",
       " \"  {'source_document': '/home/pms/llm_project/mm_rag_esg_financial_project/pdf/Bidding_Document_UWS_AGRC.pdf', 'page_number': 156, 'paragraph_number': 3, 'text': 'If a Bid-Securing Declaration is specified pursuant to ITB 21.1 the Bidder shall use the form included in this section.'} \",\n",
       " \"  {'source_document': '/home/pms/llm_project/mm_rag_esg_financial_project/pdf/Bidding_Document_UWS_AGRC.pdf', 'page_number': 157, 'paragraph_number': 1, 'text': '[insert bank’s name, and address of issuing branch or office] 4'} \",\n",
       " \"  {'source_document': '/home/pms/llm_project/mm_rag_esg_financial_project/pdf/Bidding_Document_UWS_AGRC.pdf', 'page_number': 157, 'paragraph_number': 2, 'text': 'Beneficiary: [insert name and address of the Purchaser] Date: [insert date] Bid Security No.: [insert number]'} \",\n",
       " '  {\\'source_document\\': \\'/home/pms/llm_project/mm_rag_esg_financial_project/pdf/Bidding_Document_UWS_AGRC.pdf\\', \\'page_number\\': 157, \\'paragraph_number\\': 3, \\'text\\': \\'We have been informed that [insert name of the bidder] (hereinafter called \"the Bidder\") has submitted to you its bid dated [insert date (as day, month, and year)] (hereinafter called \"the Bid\") for the execution of [insert name of contract] under Invitation for Bids No. [insert IFB number] (“the IFB”).\\'} ',\n",
       " \"  {'source_document': '/home/pms/llm_project/mm_rag_esg_financial_project/pdf/Bidding_Document_UWS_AGRC.pdf', 'page_number': 157, 'paragraph_number': 4, 'text': 'Furthermore, we understand that, according to your conditions, bids must be supported by a bid guarantee.'} \",\n",
       " \"  {'source_document': '/home/pms/llm_project/mm_rag_esg_financial_project/pdf/Bidding_Document_UWS_AGRC.pdf', 'page_number': 157, 'paragraph_number': 5, 'text': 'At the request of the Bidder, we [insert name of bank] hereby irrevocably undertake to pay you any sum or sums not exceeding in total an amount of [insert amount in words] [insert amount in figures] upon receipt by us of your first demand in writing accompanied by a written statement, stating that the Bidder is in breach of its obligation(s) under the bid conditions, because the Bidder'} \",\n",
       " \"  {'source_document': '/home/pms/llm_project/mm_rag_esg_financial_project/pdf/Bidding_Document_UWS_AGRC.pdf', 'page_number': 157, 'paragraph_number': 6, 'text': 'This guarantee will expire (a) if the Bidder is the successful Bidder, upon our receipt of copies of the Contract Agreement signed by the Bidder and the Performance Security issued to you upon the instruction of the Bidder; or (b) if the Bidder is not the successful Bidder, upon the earlier of (i) our receipt of a copy of your notification to the Bidder of the name of the successful Bidder, or (ii) 28 days after the expiration of the Bidder’s bid.'} \",\n",
       " \"  {'source_document': '/home/pms/llm_project/mm_rag_esg_financial_project/pdf/Bidding_Document_UWS_AGRC.pdf', 'page_number': 157, 'paragraph_number': 7, 'text': 'Consequently, any demand for payment under this guarantee must be received by us at the office indicated above on or before that date.'} \",\n",
       " \"  {'source_document': '/home/pms/llm_project/mm_rag_esg_financial_project/pdf/Bidding_Document_UWS_AGRC.pdf', 'page_number': 157, 'paragraph_number': 8, 'text': 'This guarantee is subject to the Uniform Rules for Demand Guarantees (URDG) 2010 Revisions, ICC Publication No. 758.5'} \",\n",
       " \"  {'source_document': '/home/pms/llm_project/mm_rag_esg_financial_project/pdf/Bidding_Document_UWS_AGRC.pdf', 'page_number': 157, 'paragraph_number': 9, 'text': '[Authorized signature(s) and bank’s seal (where appropriate)]'} \",\n",
       " \"  {'source_document': '/home/pms/llm_project/mm_rag_esg_financial_project/pdf/Bidding_Document_UWS_AGRC.pdf', 'page_number': 157, 'paragraph_number': 10, 'text': '5 Or the purchaser may use “Uniform Rules for Demand Guarantees (URDG), ICC Publication No. 458” as appropriate.'} \",\n",
       " \"  {'source_document': '/home/pms/llm_project/mm_rag_esg_financial_project/pdf/Bidding_Document_UWS_AGRC.pdf', 'page_number': 158, 'paragraph_number': 1, 'text': 'Date: [insert date (as day, month, and year)] Bid No.: [insert number of bidding process] Alternative No.: [insert identification No if this is a bid for an alternative]'} \",\n",
       " \"  {'source_document': '/home/pms/llm_project/mm_rag_esg_financial_project/pdf/Bidding_Document_UWS_AGRC.pdf', 'page_number': 158, 'paragraph_number': 2, 'text': 'To: [insert complete name of the Purchaser]'} \",\n",
       " \"  {'source_document': '/home/pms/llm_project/mm_rag_esg_financial_project/pdf/Bidding_Document_UWS_AGRC.pdf', 'page_number': 158, 'paragraph_number': 3, 'text': 'We, the undersigned, declare that:'} \",\n",
       " \"  {'source_document': '/home/pms/llm_project/mm_rag_esg_financial_project/pdf/Bidding_Document_UWS_AGRC.pdf', 'page_number': 158, 'paragraph_number': 4, 'text': 'We understand that, according to your conditions, bids must be supported by a Bid-Securing Declaration.'} \",\n",
       " \"  {'source_document': '/home/pms/llm_project/mm_rag_esg_financial_project/pdf/Bidding_Document_UWS_AGRC.pdf', 'page_number': 158, 'paragraph_number': 5, 'text': 'We accept that we will automatically be suspended from being eligible for bidding in any contract with the Borrower for the period of time of [insert number of years indicated in ITB 21.2 of the BDS] starting on the date that we receive a notification from the Purchaser that our Bid-Securing Declaration is executed, if we are in breach of our obligation(s) under the bid conditions, because we'} \",\n",
       " \"  {'source_document': '/home/pms/llm_project/mm_rag_esg_financial_project/pdf/Bidding_Document_UWS_AGRC.pdf', 'page_number': 158, 'paragraph_number': 6, 'text': 'We understand this Bid-Securing Declaration shall expire if we are not the successful Bidder, upon the earlier of (i) our receipt of your notification to us of the name of the successful Bidder; or (ii) 28 days after the expiration of our Bid.'} \",\n",
       " \"  {'source_document': '/home/pms/llm_project/mm_rag_esg_financial_project/pdf/Bidding_Document_UWS_AGRC.pdf', 'page_number': 158, 'paragraph_number': 7, 'text': 'Signed: [insert signature of person whose name and capacity are shown]'} \",\n",
       " \"  {'source_document': '/home/pms/llm_project/mm_rag_esg_financial_project/pdf/Bidding_Document_UWS_AGRC.pdf', 'page_number': 158, 'paragraph_number': 8, 'text': 'In the capacity of [insert legal capacity of person signing the Bid-Securing Declaration]'} \",\n",
       " \"  {'source_document': '/home/pms/llm_project/mm_rag_esg_financial_project/pdf/Bidding_Document_UWS_AGRC.pdf', 'page_number': 158, 'paragraph_number': 9, 'text': 'Name: [insert complete name of person signing the Bid-Securing Declaration]'} \",\n",
       " \"  {'source_document': '/home/pms/llm_project/mm_rag_esg_financial_project/pdf/Bidding_Document_UWS_AGRC.pdf', 'page_number': 158, 'paragraph_number': 10, 'text': 'Duly authorized to sign the bid for and on behalf of [insert complete name of the bidder]'} \",\n",
       " \"  {'source_document': '/home/pms/llm_project/mm_rag_esg_financial_project/pdf/Bidding_Document_UWS_AGRC.pdf', 'page_number': 158, 'paragraph_number': 11, 'text': 'Corporate Seal (where appropriate)'} \",\n",
       " \"  {'source_document': '/home/pms/llm_project/mm_rag_esg_financial_project/pdf/Bidding_Document_UWS_AGRC.pdf', 'page_number': 159, 'paragraph_number': 1, 'text': 'Date: [insert date (as day, month, and year) of bid submission]'} \",\n",
       " \"  {'source_document': '/home/pms/llm_project/mm_rag_esg_financial_project/pdf/Bidding_Document_UWS_AGRC.pdf', 'page_number': 159, 'paragraph_number': 2, 'text': 'To: [insert complete name of the Purchaser]'} \",\n",
       " \"  {'source_document': '/home/pms/llm_project/mm_rag_esg_financial_project/pdf/Bidding_Document_UWS_AGRC.pdf', 'page_number': 159, 'paragraph_number': 3, 'text': 'We [insert complete name of the manufacturer], who are official manufacturers of [insert type of goods manufactured], having factories at [insert full address of manufacturer’s factories], do hereby authorize [insert complete name of the bidder] to submit a bid the purpose of which is to provide the following IT Products and Services, manufactured by us [insert name and/or brief description of the goods], and to subsequently negotiate and sign the Contract.'} \",\n",
       " \"  {'source_document': '/home/pms/llm_project/mm_rag_esg_financial_project/pdf/Bidding_Document_UWS_AGRC.pdf', 'page_number': 159, 'paragraph_number': 4, 'text': 'We hereby extend our full guarantee and warranty in accordance with Clause 28 of the General Conditions, with respect to the goods offered by the above firm.'} \",\n",
       " \"  {'source_document': '/home/pms/llm_project/mm_rag_esg_financial_project/pdf/Bidding_Document_UWS_AGRC.pdf', 'page_number': 159, 'paragraph_number': 5, 'text': 'Signed: [insert signature(s) of authorized representative(s) of the manufacturer]'} \",\n",
       " \"  {'source_document': '/home/pms/llm_project/mm_rag_esg_financial_project/pdf/Bidding_Document_UWS_AGRC.pdf', 'page_number': 159, 'paragraph_number': 6, 'text': 'Name: [insert complete name(s) of authorized representative(s) of the manufacturer]'} \",\n",
       " \"  {'source_document': '/home/pms/llm_project/mm_rag_esg_financial_project/pdf/Bidding_Document_UWS_AGRC.pdf', 'page_number': 159, 'paragraph_number': 7, 'text': 'Title: [insert title]'} \",\n",
       " \"  {'source_document': '/home/pms/llm_project/mm_rag_esg_financial_project/pdf/Bidding_Document_UWS_AGRC.pdf', 'page_number': 159, 'paragraph_number': 8, 'text': 'Duly authorized to sign this Authorization on behalf of [insert complete name of the manufacturer]'} \",\n",
       " \"  {'source_document': '/home/pms/llm_project/mm_rag_esg_financial_project/pdf/Bidding_Document_UWS_AGRC.pdf', 'page_number': 159, 'paragraph_number': 9, 'text': 'All italicized text is for use in preparing this form and shall be deleted from the final document.'} \",\n",
       " \"  {'source_document': '/home/pms/llm_project/mm_rag_esg_financial_project/pdf/Bidding_Document_UWS_AGRC.pdf', 'page_number': 159, 'paragraph_number': 10, 'text': 'The bidder shall require the manufacturer to fill out this form in accordance with the instructions indicated. This letter of authorization should be signed by a person with the proper authority to sign documents that are binding on the manufacturer. The bidder shall include it in its bid, if so indicated in the Bid Data Sheet (BDS).'} \",\n",
       " \"  {'source_document': '/home/pms/llm_project/mm_rag_esg_financial_project/pdf/Bidding_Document_UWS_AGRC.pdf', 'page_number': 160, 'paragraph_number': 1, 'text': '[together with successors and assigns].'} \",\n",
       " \"  {'source_document': '/home/pms/llm_project/mm_rag_esg_financial_project/pdf/Bidding_Document_UWS_AGRC.pdf', 'page_number': 160, 'paragraph_number': 2, 'text': 'We have been informed that [name of Contractor] (hereinafter called the “Contractor”) is submitting an offer for the above-referenced Contract in response to your invitation, and that the conditions of your invitation require its offer to be supported by an affiliate company guarantee.'} \",\n",
       " \"  {'source_document': '/home/pms/llm_project/mm_rag_esg_financial_project/pdf/Bidding_Document_UWS_AGRC.pdf', 'page_number': 160, 'paragraph_number': 3, 'text': 'In consideration of you, the Purchaser, awarding the Contract to the Contractor, we [name of affiliated company] irrevocably and unconditionally guarantee to you, as a primary obligation, that (i) throughout the duration of the Contract, we will make available to the Contractor our financial, technical capacity, expertise and resources required for the Contractor’s satisfactory performance of the Contract; and (ii) we are fully committed, along with the Contractor, to ensuring a satisfactory performance of the Contract.'} \",\n",
       " \"  {'source_document': '/home/pms/llm_project/mm_rag_esg_financial_project/pdf/Bidding_Document_UWS_AGRC.pdf', 'page_number': 160, 'paragraph_number': 4, 'text': 'If the Contractor fails to so perform its obligations and liabilities and comply with the Contract, we will indemnify the Purchaser against and from all damages, losses and expenses (including legal fees and expenses) which arise from any such failure for which the Contractor is liable to the Purchaser under the Contract.'} \",\n",
       " \"  {'source_document': '/home/pms/llm_project/mm_rag_esg_financial_project/pdf/Bidding_Document_UWS_AGRC.pdf', 'page_number': 160, 'paragraph_number': 5, 'text': 'This guarantee shall come into full force and effect when the Contract comes into full force and effect. If the Contract does not come into full force and effect within a year of the date of this guarantee, or if you demonstrate that you do not intend to enter into the Contract with the Contractor, this guarantee shall be void and ineffective. This guarantee shall continue in full force and effect until all the Contractor’s obligations and liabilities under the Contract have been discharged, when this guarantee shall expire and shall be returned to us, and our liability hereunder shall be discharged absolutely.'} \",\n",
       " \"  {'source_document': '/home/pms/llm_project/mm_rag_esg_financial_project/pdf/Bidding_Document_UWS_AGRC.pdf', 'page_number': 160, 'paragraph_number': 6, 'text': 'This guarantee shall apply and be supplemental to the Contract as amended or varied by the Purchaser and the Contractor from time to time. We hereby authorize them to agree on any such amendment or variation, the due performance of which and compliance with which by the Contractor are likewise guaranteed hereunder. Our obligations and liabilities under this guarantee shall not be discharged by any allowance of time or other indulgence whatsoever by the Purchaser to the Contractor, or by any variation or suspension of the works to be executed under the Contract, or by any amendments to the Contract or to the constitution of the Contractor or the Purchaser, or by any other matters, whether with or without our knowledge or consent.'} \",\n",
       " \"  {'source_document': '/home/pms/llm_project/mm_rag_esg_financial_project/pdf/Bidding_Document_UWS_AGRC.pdf', 'page_number': 160, 'paragraph_number': 7, 'text': 'This guarantee shall be governed by the law of the same country (or other jurisdiction) that governs the Contract and any dispute under this guarantee shall be finally settled under the [Rules or Arbitration provided in the Contract]. We confirm that the benefit of this guarantee may be assigned subject only to the provisions for assignment of the Contract.'} \",\n",
       " \"  {'source_document': '/home/pms/llm_project/mm_rag_esg_financial_project/pdf/Bidding_Document_UWS_AGRC.pdf', 'page_number': 161, 'paragraph_number': 1, 'text': 'If permitted in accordance with ITB 34.2 of the BDS, the Bidder shall provide the Affiliate Company Guarantee Form filled out and signed by each subsidiary, parent entity, or affiliate that the Bidder submits for consideration of the Purchaser in determining its qualifications.'} \",\n",
       " \"  {'source_document': '/home/pms/llm_project/mm_rag_esg_financial_project/pdf/Bidding_Document_UWS_AGRC.pdf', 'page_number': 162, 'paragraph_number': 1, 'text': 'To establish its qualifications to perform the contract in accordance with Section 3 (Evaluation and Qualification Criteria), the Bidder shall provide the following information requested in the corresponding Information Sheets.'} \",\n",
       " \"  {'source_document': '/home/pms/llm_project/mm_rag_esg_financial_project/pdf/Bidding_Document_UWS_AGRC.pdf', 'page_number': 163, 'paragraph_number': 1, 'text': 'Attached are copies of the following documents:'} \",\n",
       " \"  {'source_document': '/home/pms/llm_project/mm_rag_esg_financial_project/pdf/Bidding_Document_UWS_AGRC.pdf', 'page_number': 163, 'paragraph_number': 2, 'text': '1. In case of a single entity, articles of incorporation or constitution and company incorporation/registration of the legal entity named above, in accordance with ITB 4.1 and ITB 4.2'} \",\n",
       " \"  {'source_document': '/home/pms/llm_project/mm_rag_esg_financial_project/pdf/Bidding_Document_UWS_AGRC.pdf', 'page_number': 163, 'paragraph_number': 3, 'text': '2. Authorization to represent the firm or Joint Venture named above, in accordance with ITB 22.2'} \",\n",
       " \"  {'source_document': '/home/pms/llm_project/mm_rag_esg_financial_project/pdf/Bidding_Document_UWS_AGRC.pdf', 'page_number': 163, 'paragraph_number': 4, 'text': '3.In case of a Joint Venture, a letter of intent to form a Joint Venture or Joint Venture agreement, in accordance with ITB 4.1'} \",\n",
       " \"  {'source_document': '/home/pms/llm_project/mm_rag_esg_financial_project/pdf/Bidding_Document_UWS_AGRC.pdf', 'page_number': 163, 'paragraph_number': 5, 'text': '4.In case of a government-owned enterprise, any additional documents not covered under 1 above required to comply with ITB 4.5'} \",\n",
       " \"  {'source_document': '/home/pms/llm_project/mm_rag_esg_financial_project/pdf/Bidding_Document_UWS_AGRC.pdf', 'page_number': 164, 'paragraph_number': 1, 'text': 'Each partner of the Joint Venture must fill out this form separately.'} \",\n",
       " \"  {'source_document': '/home/pms/llm_project/mm_rag_esg_financial_project/pdf/Bidding_Document_UWS_AGRC.pdf', 'page_number': 164, 'paragraph_number': 2, 'text': '1. Articles of incorporation or constitution and company incorporation/registration of the legal entity named above, in accordance with ITB 4.1 and ITB 4.2'} \",\n",
       " \"  {'source_document': '/home/pms/llm_project/mm_rag_esg_financial_project/pdf/Bidding_Document_UWS_AGRC.pdf', 'page_number': 164, 'paragraph_number': 3, 'text': '2. Authorization to represent the firm named above, in accordance with ITB 22.2'} \",\n",
       " \"  {'source_document': '/home/pms/llm_project/mm_rag_esg_financial_project/pdf/Bidding_Document_UWS_AGRC.pdf', 'page_number': 164, 'paragraph_number': 4, 'text': '3. In the case of a government-owned enterprise, in accordance with ITB 4.5'} \",\n",
       " \"  {'source_document': '/home/pms/llm_project/mm_rag_esg_financial_project/pdf/Bidding_Document_UWS_AGRC.pdf', 'page_number': 165, 'paragraph_number': 1, 'text': 'Each Bidder must fill out this form in accordance with Criteria 2.2.1 and 2.2.3 of Section 3 (Evaluation and Qualification Criteria) to describe any history of nonperforming contracts and pending litigation or arbitration formally commenced against it.'} \",\n",
       " \"  {'source_document': '/home/pms/llm_project/mm_rag_esg_financial_project/pdf/Bidding_Document_UWS_AGRC.pdf', 'page_number': 165, 'paragraph_number': 2, 'text': 'In case of a Joint Venture, each Joint Venture Partner must fill out this form separately and provide the Joint Venture Partner’s name:'} \",\n",
       " \"  {'source_document': '/home/pms/llm_project/mm_rag_esg_financial_project/pdf/Bidding_Document_UWS_AGRC.pdf', 'page_number': 165, 'paragraph_number': 3, 'text': 'Table 2 of this form shall only be included if Criterion 2.2.3 of Section 3 (Evaluation and Qualification Criteria) is applicable.'} \",\n",
       " \"  {'source_document': '/home/pms/llm_project/mm_rag_esg_financial_project/pdf/Bidding_Document_UWS_AGRC.pdf', 'page_number': 166, 'paragraph_number': 1, 'text': 'Fill out one (1) form per contract. Each contract shall be supported by documents such as Signed Contract Agreement.'} \",\n",
       " \"  {'source_document': '/home/pms/llm_project/mm_rag_esg_financial_project/pdf/Bidding_Document_UWS_AGRC.pdf', 'page_number': 166, 'paragraph_number': 2, 'text': 'This form shall only be included if Criterion 2.3.1 of Section 3 (Evaluation and Qualification Criteria) is applicable.'} \",\n",
       " \"  {'source_document': '/home/pms/llm_project/mm_rag_esg_financial_project/pdf/Bidding_Document_UWS_AGRC.pdf', 'page_number': 167, 'paragraph_number': 1, 'text': 'Fill out one (1) form per contract. Each contract shall be supported by documents such as Signed Contract Agreement.'} \",\n",
       " \"  {'source_document': '/home/pms/llm_project/mm_rag_esg_financial_project/pdf/Bidding_Document_UWS_AGRC.pdf', 'page_number': 167, 'paragraph_number': 2, 'text': 'This form shall only be included if Criterion 2.3.2 of Section 3 (Evaluation and Qualification Criteria) is applicable. Add pages as necessary. The Purchaser reserves the right to verify authenticity of Bidder submissions.'} \",\n",
       " \"  {'source_document': '/home/pms/llm_project/mm_rag_esg_financial_project/pdf/Bidding_Document_UWS_AGRC.pdf', 'page_number': 168, 'paragraph_number': 1, 'text': 'Fill out one (1) form per product and manufacturer.'} \",\n",
       " \"  {'source_document': '/home/pms/llm_project/mm_rag_esg_financial_project/pdf/Bidding_Document_UWS_AGRC.pdf', 'page_number': 168, 'paragraph_number': 2, 'text': 'This form shall only be included if Criterion 2.3.3 of Section 3 (Evaluation and Qualification Criteria) is applicable. The Purchaser reserves the right to verify authenticity of Bidder submissions.'} \",\n",
       " \"  {'source_document': '/home/pms/llm_project/mm_rag_esg_financial_project/pdf/Bidding_Document_UWS_AGRC.pdf', 'page_number': 169, 'paragraph_number': 1, 'text': 'Each Bidder must fill out this form.'} \",\n",
       " \"  {'source_document': '/home/pms/llm_project/mm_rag_esg_financial_project/pdf/Bidding_Document_UWS_AGRC.pdf', 'page_number': 169, 'paragraph_number': 2, 'text': 'In case of a Joint Venture, each Joint Venture Partner must fill out this form separately and provide the Joint Venture Partner’s name:'} \",\n",
       " \"  {'source_document': '/home/pms/llm_project/mm_rag_esg_financial_project/pdf/Bidding_Document_UWS_AGRC.pdf', 'page_number': 169, 'paragraph_number': 3, 'text': '❑ Attached are copies of financial statements (balance sheets including all related notes, and income statements) for the last'} \",\n",
       " \"  {'source_document': '/home/pms/llm_project/mm_rag_esg_financial_project/pdf/Bidding_Document_UWS_AGRC.pdf', 'page_number': 169, 'paragraph_number': 4, 'text': '_____ years, as indicated above, complying with the following conditions:'} \",\n",
       " \"  {'source_document': '/home/pms/llm_project/mm_rag_esg_financial_project/pdf/Bidding_Document_UWS_AGRC.pdf', 'page_number': 169, 'paragraph_number': 5, 'text': 'This form shall only be included if Criterion 2.4.1 of Section 3 (Evaluation and Qualification Criteria) is applicable.'} \",\n",
       " \"  {'source_document': '/home/pms/llm_project/mm_rag_esg_financial_project/pdf/Bidding_Document_UWS_AGRC.pdf', 'page_number': 170, 'paragraph_number': 1, 'text': 'Each Bidder must fill out this form.'} \",\n",
       " \"  {'source_document': '/home/pms/llm_project/mm_rag_esg_financial_project/pdf/Bidding_Document_UWS_AGRC.pdf', 'page_number': 170, 'paragraph_number': 2, 'text': 'The information supplied should be the Annual Turnover of the Bidder or each partner of a Joint Venture for the total certified payments received from the clients for contracts in progress or completed, converted to US dollars at the rate of exchange at the end of the period reported.'} \",\n",
       " \"  {'source_document': '/home/pms/llm_project/mm_rag_esg_financial_project/pdf/Bidding_Document_UWS_AGRC.pdf', 'page_number': 170, 'paragraph_number': 3, 'text': 'In case of a Joint Venture, each Joint Venture Partner must fill out this form separately and provide the Joint Venture Partner’s name:'} \",\n",
       " \"  {'source_document': '/home/pms/llm_project/mm_rag_esg_financial_project/pdf/Bidding_Document_UWS_AGRC.pdf', 'page_number': 170, 'paragraph_number': 4, 'text': 'Joint Venture Partner: ___________________'} \",\n",
       " \"  {'source_document': '/home/pms/llm_project/mm_rag_esg_financial_project/pdf/Bidding_Document_UWS_AGRC.pdf', 'page_number': 170, 'paragraph_number': 5, 'text': 'This form shall only be included if Criterion 2.4.2 of Section 3 (Evaluation and Qualification Criteria) is applicable.'} \",\n",
       " \"  {'source_document': '/home/pms/llm_project/mm_rag_esg_financial_project/pdf/Bidding_Document_UWS_AGRC.pdf', 'page_number': 171, 'paragraph_number': 1, 'text': 'Specify proposed sources of financing, such as working capital, liquid assets,6 lines of credit, and other financial resources (other than any contractual advance payments) available to meet the cash flow requirements indicated under Criterion 2.4.3 of Section 3 (Evaluation and Qualification Criteria).'} \",\n",
       " \"  {'source_document': '/home/pms/llm_project/mm_rag_esg_financial_project/pdf/Bidding_Document_UWS_AGRC.pdf', 'page_number': 171, 'paragraph_number': 2, 'text': 'This form shall only be included if Criterion 2.4.3 of Section 3 (Evaluation and Qualification Criteria) is applicable.'} \",\n",
       " \"  {'source_document': '/home/pms/llm_project/mm_rag_esg_financial_project/pdf/Bidding_Document_UWS_AGRC.pdf', 'page_number': 172, 'paragraph_number': 1, 'text': 'This section contains the list of eligible countries.'} \",\n",
       " \"  {'source_document': '/home/pms/llm_project/mm_rag_esg_financial_project/pdf/Bidding_Document_UWS_AGRC.pdf', 'page_number': 172, 'paragraph_number': 2, 'text': 'Bidding Document for Web System'} \",\n",
       " \"  {'source_document': '/home/pms/llm_project/mm_rag_esg_financial_project/pdf/Bidding_Document_UWS_AGRC.pdf', 'page_number': 172, 'paragraph_number': 3, 'text': 'Single-Stage: Two-Envelope'} \",\n",
       " \"  {'source_document': '/home/pms/llm_project/mm_rag_esg_financial_project/pdf/Bidding_Document_UWS_AGRC.pdf', 'page_number': 174, 'paragraph_number': 1, 'text': 'Supply, Delivery, and Installation of Web System Hardware and Software'} \",\n",
       " \"  {'source_document': '/home/pms/llm_project/mm_rag_esg_financial_project/pdf/Bidding_Document_UWS_AGRC.pdf', 'page_number': 176, 'paragraph_number': 1, 'text': 'The delivery period shall start as of the signing of the Contract Agreement'} \",\n",
       " \"  {'source_document': '/home/pms/llm_project/mm_rag_esg_financial_project/pdf/Bidding_Document_UWS_AGRC.pdf', 'page_number': 176, 'paragraph_number': 2, 'text': 'Supply, Delivery, and Installation of Web System Hardware and Software'} \",\n",
       " \"  {'source_document': '/home/pms/llm_project/mm_rag_esg_financial_project/pdf/Bidding_Document_UWS_AGRC.pdf', 'page_number': 177, 'paragraph_number': 1, 'text': 'The overarching goal of TGTDCL’s Prepaid Meter Management System strategy is to effectively integrate all prepaid meters and prepaid customer into TGTDCL’s centralized common Gas Customer management system. A high level overview of the system shown below:'} \",\n",
       " \"  {'source_document': '/home/pms/llm_project/mm_rag_esg_financial_project/pdf/Bidding_Document_UWS_AGRC.pdf', 'page_number': 177, 'paragraph_number': 2, 'text': 'The high-level business capabilities that would enable TGTDCL to achieve this goal are:'} \",\n",
       " \"  {'source_document': '/home/pms/llm_project/mm_rag_esg_financial_project/pdf/Bidding_Document_UWS_AGRC.pdf', 'page_number': 177, 'paragraph_number': 3, 'text': 'TGTDCL Prepaid Meter Management System vision is to drive development of an integrated suite of next-generation system that will incorporate the best solutions from multiple vendors. The prepaid meter solution is expected to be implemented starting in 2024.'} \",\n",
       " \"  {'source_document': '/home/pms/llm_project/mm_rag_esg_financial_project/pdf/Bidding_Document_UWS_AGRC.pdf', 'page_number': 177, 'paragraph_number': 4, 'text': 'The overall scope is shown on the picture below:'} \",\n",
       " \"  {'source_document': '/home/pms/llm_project/mm_rag_esg_financial_project/pdf/Bidding_Document_UWS_AGRC.pdf', 'page_number': 178, 'paragraph_number': 1, 'text': 'Prepaid Meter Management Systems applications include the following modules:'} \",\n",
       " \"  {'source_document': '/home/pms/llm_project/mm_rag_esg_financial_project/pdf/Bidding_Document_UWS_AGRC.pdf', 'page_number': 178, 'paragraph_number': 2, 'text': 'Supply, Delivery, and Installation of Web System Hardware and Software'} \",\n",
       " \"  {'source_document': '/home/pms/llm_project/mm_rag_esg_financial_project/pdf/Bidding_Document_UWS_AGRC.pdf', 'page_number': 179, 'paragraph_number': 1, 'text': 'Bidder’s technical proposal shall include (but not be limited to) the features described below and pertinent technical documentation as needed.'} \",\n",
       " \"  {'source_document': '/home/pms/llm_project/mm_rag_esg_financial_project/pdf/Bidding_Document_UWS_AGRC.pdf', 'page_number': 186, 'paragraph_number': 1, 'text': 'Example Partial Process Flow of the Pre-Paid Metering system'} \",\n",
       " \"  {'source_document': '/home/pms/llm_project/mm_rag_esg_financial_project/pdf/Bidding_Document_UWS_AGRC.pdf', 'page_number': 187, 'paragraph_number': 1, 'text': 'Bidder’s technical proposal shall include (but not be limited to) the features described below and pertinent technical documentation as needed.'} \",\n",
       " '  {\\'source_document\\': \\'/home/pms/llm_project/mm_rag_esg_financial_project/pdf/Bidding_Document_UWS_AGRC.pdf\\', \\'page_number\\': 187, \\'paragraph_number\\': 2, \\'text\\': \"For the Titas prepaid gas meter project, the tenderer should propose a highly scalable cloud infrastructure to efficiently support the project\\'s requirements. The prepaid gas meter project involves managing a large volume of data related to gas consumption, user accounts, billing, and more. Additionally, it requires a robust infrastructure capable of handling fluctuations in demand, ensuring reliable performance, and accommodating future growth.\"} ',\n",
       " '  {\\'source_document\\': \\'/home/pms/llm_project/mm_rag_esg_financial_project/pdf/Bidding_Document_UWS_AGRC.pdf\\', \\'page_number\\': 187, \\'paragraph_number\\': 3, \\'text\\': \"The proposed cloud service should have several key characteristics to meet the project\\'s needs effectively:\"} ',\n",
       " \"  {'source_document': '/home/pms/llm_project/mm_rag_esg_financial_project/pdf/Bidding_Document_UWS_AGRC.pdf', 'page_number': 187, 'paragraph_number': 4, 'text': 'In summary, the tenderer should propose a highly scalable cloud infrastructure for the Titas prepaid gas meter project, ensuring reliability, security, performance, and cost-effectiveness. By leveraging cloud services effectively, the project can achieve its objectives efficiently while accommodating future growth and innovation.'} \",\n",
       " \"  {'source_document': '/home/pms/llm_project/mm_rag_esg_financial_project/pdf/Bidding_Document_UWS_AGRC.pdf', 'page_number': 187, 'paragraph_number': 5, 'text': 'Supply, Delivery, and Installation of Web System Hardware and Software'} \",\n",
       " '  {\\'source_document\\': \\'/home/pms/llm_project/mm_rag_esg_financial_project/pdf/Bidding_Document_UWS_AGRC.pdf\\', \\'page_number\\': 188, \\'paragraph_number\\': 1, \\'text\\': \"The Bill of Quantity (BoQ) and Guaranteed Technical Particulars (GTP) provided below outline the necessary items to support an initial customer base of up to five hundred thousand. It\\'s important to note that this infrastructure is designed to accommodate this initial volume of customers. However, as the customer base expands, the infrastructure must be readily scalable to meet growing demands.\"} ',\n",
       " \"  {'source_document': '/home/pms/llm_project/mm_rag_esg_financial_project/pdf/Bidding_Document_UWS_AGRC.pdf', 'page_number': 188, 'paragraph_number': 2, 'text': 'Single-Stage: Two-Envelope'} \",\n",
       " \"  {'source_document': '/home/pms/llm_project/mm_rag_esg_financial_project/pdf/Bidding_Document_UWS_AGRC.pdf', 'page_number': 189, 'paragraph_number': 1, 'text': 'Supply, Delivery, and Installation of Web System Hardware and Software'} \",\n",
       " \"  {'source_document': '/home/pms/llm_project/mm_rag_esg_financial_project/pdf/Bidding_Document_UWS_AGRC.pdf', 'page_number': 190, 'paragraph_number': 1, 'text': 'Line Items (please see the Technical'} \",\n",
       " \"  {'source_document': '/home/pms/llm_project/mm_rag_esg_financial_project/pdf/Bidding_Document_UWS_AGRC.pdf', 'page_number': 190, 'paragraph_number': 2, 'text': 'A representative cloud architecture shown in the attached:'} \",\n",
       " \"  {'source_document': '/home/pms/llm_project/mm_rag_esg_financial_project/pdf/Bidding_Document_UWS_AGRC.pdf', 'page_number': 191, 'paragraph_number': 1, 'text': 'Th is s ec t io n c ov e rs t h e I nt e gra t io n r e qu ir e m en ts b as e d o n t h e L ev e l 1 F u nc t i on a l an d B us in es s R eq u ir e me n ts c ap tu re d i n t h i s p has e fo r t h e T e nd er on Pre p a id Me t er.'} \",\n",
       " \"  {'source_document': '/home/pms/llm_project/mm_rag_esg_financial_project/pdf/Bidding_Document_UWS_AGRC.pdf', 'page_number': 191, 'paragraph_number': 2, 'text': 'Th e I n te gr at i on r eq u ir em e nts ar e br ok en d ow n a nd s e gr eg a te d bas e d on t h e B us i n es s Ar e as . T hes e r e qu ir e me n ts ar e f u rth er c o ns ol i d at e d ac r os s B us in es s Ar eas in t he Serv ic e In ter ac t i o n C a ta l o g t o o p ti m iz e t h e i nt eg ra t io n r eq u ir em e nts , c ons o l id a te r ed u nd a nt in ter f ac es an d h e nc e t o arr iv e a t a Serv ic e I nt erac t io n Ca ta l o g.'} \",\n",
       " \"  {'source_document': '/home/pms/llm_project/mm_rag_esg_financial_project/pdf/Bidding_Document_UWS_AGRC.pdf', 'page_number': 191, 'paragraph_number': 3, 'text': 'Supply, Delivery, and Installation of Web System Hardware and Software'} \",\n",
       " \"  {'source_document': '/home/pms/llm_project/mm_rag_esg_financial_project/pdf/Bidding_Document_UWS_AGRC.pdf', 'page_number': 192, 'paragraph_number': 1, 'text': 'Bidding Document for Web System Procurement of IT Products and Services Single-Stage: Two-Envelope INTERNAL. This information is accessible to ADB Management and staff. It may be shared outside ADB with appropriate'} \",\n",
       " \"  {'source_document': '/home/pms/llm_project/mm_rag_esg_financial_project/pdf/Bidding_Document_UWS_AGRC.pdf', 'page_number': 193, 'paragraph_number': 1, 'text': 'Bidding Document for Web System Procurement of IT Products and Services Single-Stage: Two-Envelope INTERNAL. This information is accessible to ADB Management and staff. It may be shared outside ADB with appropriate permission.'} \",\n",
       " \"  {'source_document': '/home/pms/llm_project/mm_rag_esg_financial_project/pdf/Bidding_Document_UWS_AGRC.pdf', 'page_number': 194, 'paragraph_number': 1, 'text': 'Bidding Document for Web System Procurement of IT Products and Services Single-Stage: Two-Envelope INTERNAL. This information is accessible to ADB Management and staff. It may be shared outside ADB with appropriate'} \",\n",
       " \"  {'source_document': '/home/pms/llm_project/mm_rag_esg_financial_project/pdf/Bidding_Document_UWS_AGRC.pdf', 'page_number': 195, 'paragraph_number': 1, 'text': '1 Whether as a Contractor, Nominated Subcontractor, Consultant, Manufacturer or Supplier, or Service Provider; or in any other capacity (different names are used depending on the particular Bidding Document).'} \",\n",
       " \"  {'source_document': '/home/pms/llm_project/mm_rag_esg_financial_project/pdf/Bidding_Document_UWS_AGRC.pdf', 'page_number': 195, 'paragraph_number': 2, 'text': 'Bidding Document for Web System Procurement of IT Products and Services Single-Stage: Two-Envelope INTERNAL. This information is accessible to ADB Management and staff. It may be shared outside ADB with appropriate permission.'} \",\n",
       " \"  {'source_document': '/home/pms/llm_project/mm_rag_esg_financial_project/pdf/Bidding_Document_UWS_AGRC.pdf', 'page_number': 196, 'paragraph_number': 1, 'text': 'contract performance and to have them audited by auditors appointed by ADB.'} \",\n",
       " \"  {'source_document': '/home/pms/llm_project/mm_rag_esg_financial_project/pdf/Bidding_Document_UWS_AGRC.pdf', 'page_number': 196, 'paragraph_number': 2, 'text': '2 The undertaking also applies during the period of performance of the contract.'} \",\n",
       " \"  {'source_document': '/home/pms/llm_project/mm_rag_esg_financial_project/pdf/Bidding_Document_UWS_AGRC.pdf', 'page_number': 196, 'paragraph_number': 3, 'text': 'Bidding Document for Web System Procurement of IT Products and Services Single-Stage: Two-Envelope INTERNAL. This information is accessible to ADB Management and staff. It may be shared outside ADB with appropriate permission.'} \",\n",
       " \"  {'source_document': '/home/pms/llm_project/mm_rag_esg_financial_project/pdf/Bidding_Document_UWS_AGRC.pdf', 'page_number': 197, 'paragraph_number': 1, 'text': '4.2 Incoterms'} \",\n",
       " \"  {'source_document': '/home/pms/llm_project/mm_rag_esg_financial_project/pdf/Bidding_Document_UWS_AGRC.pdf', 'page_number': 197, 'paragraph_number': 2, 'text': '4.3 Entire Agreement'} \",\n",
       " \"  {'source_document': '/home/pms/llm_project/mm_rag_esg_financial_project/pdf/Bidding_Document_UWS_AGRC.pdf', 'page_number': 197, 'paragraph_number': 3, 'text': 'The Contract constitutes the entire agreement between the Purchaser and the Supplier and supersedes all communications, negotiations, and agreements (whether written or oral) of parties with respect thereto made prior to the date of Contract.'} \",\n",
       " \"  {'source_document': '/home/pms/llm_project/mm_rag_esg_financial_project/pdf/Bidding_Document_UWS_AGRC.pdf', 'page_number': 197, 'paragraph_number': 4, 'text': 'No amendment or other variation of the Contract shall be valid unless it is in writing, is dated, expressly refers to the Contract, and is signed by a duly authorized representative of each party thereto.'} \",\n",
       " \"  {'source_document': '/home/pms/llm_project/mm_rag_esg_financial_project/pdf/Bidding_Document_UWS_AGRC.pdf', 'page_number': 197, 'paragraph_number': 5, 'text': 'Bidding Document for Web System Procurement of IT Products and Services Single-Stage: Two-Envelope INTERNAL. This information is accessible to ADB Management and staff. It may be shared outside ADB with appropriate permission.'} \",\n",
       " \"  {'source_document': '/home/pms/llm_project/mm_rag_esg_financial_project/pdf/Bidding_Document_UWS_AGRC.pdf', 'page_number': 198, 'paragraph_number': 1, 'text': 'If any provision or condition of the Contract is prohibited or rendered invalid or unenforceable, such prohibition, invalidity, or unenforceability shall not affect the validity or enforceability of any other provisions and conditions of the Contract.'} \",\n",
       " \"  {'source_document': '/home/pms/llm_project/mm_rag_esg_financial_project/pdf/Bidding_Document_UWS_AGRC.pdf', 'page_number': 198, 'paragraph_number': 2, 'text': 'Bidding Document for Web System Procurement of IT Products and Services Single-Stage: Two-Envelope INTERNAL. This information is accessible to ADB Management and staff. It may be shared outside ADB with appropriate permission.'} \",\n",
       " \"  {'source_document': '/home/pms/llm_project/mm_rag_esg_financial_project/pdf/Bidding_Document_UWS_AGRC.pdf', 'page_number': 199, 'paragraph_number': 1, 'text': 'Bidding Document for Web System Procurement of IT Products and Services Single-Stage: Two-Envelope INTERNAL. This information is accessible to ADB Management and staff. It may be shared outside ADB with appropriate permission.'} \",\n",
       " \"  {'source_document': '/home/pms/llm_project/mm_rag_esg_financial_project/pdf/Bidding_Document_UWS_AGRC.pdf', 'page_number': 200, 'paragraph_number': 1, 'text': 'Bidding Document for Web System Procurement of IT Products and Services Single-Stage: Two-Envelope INTERNAL. This information is accessible to ADB Management and staff. It may be shared outside ADB with appropriate'} \",\n",
       " \"  {'source_document': '/home/pms/llm_project/mm_rag_esg_financial_project/pdf/Bidding_Document_UWS_AGRC.pdf', 'page_number': 201, 'paragraph_number': 1, 'text': 'Bidding Document for Web System Procurement of IT Products and Services Single-Stage: Two-Envelope INTERNAL. This information is accessible to ADB Management and staff. It may be shared outside ADB with appropriate permission.'} \",\n",
       " \"  {'source_document': '/home/pms/llm_project/mm_rag_esg_financial_project/pdf/Bidding_Document_UWS_AGRC.pdf', 'page_number': 202, 'paragraph_number': 1, 'text': 'whose application is appropriate to the country of origin of the IT products.'} \",\n",
       " \"  {'source_document': '/home/pms/llm_project/mm_rag_esg_financial_project/pdf/Bidding_Document_UWS_AGRC.pdf', 'page_number': 202, 'paragraph_number': 2, 'text': 'Bidding Document for Web System Procurement of IT Products and Services Single-Stage: Two-Envelope INTERNAL. This information is accessible to ADB Management and staff. It may be shared outside ADB with appropriate permission.'} \",\n",
       " \"  {'source_document': '/home/pms/llm_project/mm_rag_esg_financial_project/pdf/Bidding_Document_UWS_AGRC.pdf', 'page_number': 203, 'paragraph_number': 1, 'text': 'Bidding Document for Web System Procurement of IT Products and Services Single-Stage: Two-Envelope INTERNAL. This information is accessible to ADB Management and staff. It may be shared outside ADB with appropriate permission.'} \",\n",
       " \"  {'source_document': '/home/pms/llm_project/mm_rag_esg_financial_project/pdf/Bidding_Document_UWS_AGRC.pdf', 'page_number': 204, 'paragraph_number': 1, 'text': 'Such indemnity shall not cover any use of the IT products or any part thereof other than for the purpose indicated by or to be reasonably inferred from the Contract, neither any infringement resulting from the use of the IT products or any part thereof, or any products produced thereby in association or combination with any other equipment, plant, or materials not supplied by the Supplier, pursuant to the Contract.'} \",\n",
       " \"  {'source_document': '/home/pms/llm_project/mm_rag_esg_financial_project/pdf/Bidding_Document_UWS_AGRC.pdf', 'page_number': 204, 'paragraph_number': 2, 'text': 'Bidding Document for Web System Procurement of IT Products and Services Single-Stage: Two-Envelope INTERNAL. This information is accessible to ADB Management and staff. It may be shared outside ADB with appropriate permission.'} \",\n",
       " \"  {'source_document': '/home/pms/llm_project/mm_rag_esg_financial_project/pdf/Bidding_Document_UWS_AGRC.pdf', 'page_number': 205, 'paragraph_number': 1, 'text': 'Bidding Document for Web System Procurement of IT Products and Services Single-Stage: Two-Envelope INTERNAL. This information is accessible to ADB Management and staff. It may be shared outside ADB with appropriate permission.'} \",\n",
       " \"  {'source_document': '/home/pms/llm_project/mm_rag_esg_financial_project/pdf/Bidding_Document_UWS_AGRC.pdf', 'page_number': 206, 'paragraph_number': 1, 'text': 'of the Purchaser in its sovereign capacity, wars or revolutions, fires, floods, epidemics, quarantine restrictions, and freight embargoes.'} \",\n",
       " \"  {'source_document': '/home/pms/llm_project/mm_rag_esg_financial_project/pdf/Bidding_Document_UWS_AGRC.pdf', 'page_number': 206, 'paragraph_number': 2, 'text': 'and Contract'} \",\n",
       " \"  {'source_document': '/home/pms/llm_project/mm_rag_esg_financial_project/pdf/Bidding_Document_UWS_AGRC.pdf', 'page_number': 206, 'paragraph_number': 3, 'text': 'Bidding Document for Web System Procurement of IT Products and Services Single-Stage: Two-Envelope INTERNAL. This information is accessible to ADB Management and staff. It may be shared outside ADB with appropriate'} \",\n",
       " \"  {'source_document': '/home/pms/llm_project/mm_rag_esg_financial_project/pdf/Bidding_Document_UWS_AGRC.pdf', 'page_number': 207, 'paragraph_number': 1, 'text': 'The Purchaser may at any time terminate the Contract by giving Notice to the Supplier if the Supplier becomes bankrupt or otherwise insolvent. In such event, termination will be without compensation to the Supplier, provided that such termination will not prejudice or affect any right of action or remedy that has accrued or will accrue thereafter to the Purchaser.'} \",\n",
       " \"  {'source_document': '/home/pms/llm_project/mm_rag_esg_financial_project/pdf/Bidding_Document_UWS_AGRC.pdf', 'page_number': 207, 'paragraph_number': 2, 'text': 'Bidding Document for Web System Procurement of IT Products and Services Single-Stage: Two-Envelope INTERNAL. This information is accessible to ADB Management and staff. It may be shared outside ADB with appropriate permission.'} \",\n",
       " \"  {'source_document': '/home/pms/llm_project/mm_rag_esg_financial_project/pdf/Bidding_Document_UWS_AGRC.pdf', 'page_number': 208, 'paragraph_number': 1, 'text': 'Bidding Document for Web System Procurement of IT Products and Services Single-Stage: Two-Envelope INTERNAL. This information is accessible to ADB Management and staff. It may be shared outside ADB with appropriate'} \",\n",
       " \"  {'source_document': '/home/pms/llm_project/mm_rag_esg_financial_project/pdf/Bidding_Document_UWS_AGRC.pdf', 'page_number': 209, 'paragraph_number': 1, 'text': 'The following Special Conditions of Contract (SCC) shall supplement the General Conditions of Contract (GCC). Whenever there is a conflict, the provisions herein shall prevail over those in the GCC.'} \",\n",
       " \"  {'source_document': '/home/pms/llm_project/mm_rag_esg_financial_project/pdf/Bidding_Document_UWS_AGRC.pdf', 'page_number': 209, 'paragraph_number': 2, 'text': 'Single-Stage: Two-Envelope'} \",\n",
       " \"  {'source_document': '/home/pms/llm_project/mm_rag_esg_financial_project/pdf/Bidding_Document_UWS_AGRC.pdf', 'page_number': 210, 'paragraph_number': 1, 'text': 'products and, if not received, the Supplier will be responsible for any consequent'} \",\n",
       " \"  {'source_document': '/home/pms/llm_project/mm_rag_esg_financial_project/pdf/Bidding_Document_UWS_AGRC.pdf', 'page_number': 210, 'paragraph_number': 2, 'text': 'The price adjustment shall be: Not applicable'} \",\n",
       " \"  {'source_document': '/home/pms/llm_project/mm_rag_esg_financial_project/pdf/Bidding_Document_UWS_AGRC.pdf', 'page_number': 210, 'paragraph_number': 3, 'text': 'Bidding Document for Web System'} \",\n",
       " \"  {'source_document': '/home/pms/llm_project/mm_rag_esg_financial_project/pdf/Bidding_Document_UWS_AGRC.pdf', 'page_number': 210, 'paragraph_number': 4, 'text': 'Single-Stage: Two-Envelope'} \",\n",
       " \"  {'source_document': '/home/pms/llm_project/mm_rag_esg_financial_project/pdf/Bidding_Document_UWS_AGRC.pdf', 'page_number': 211, 'paragraph_number': 1, 'text': 'reputable bank located in the Purchaser’s country or abroad, acceptable to the'} \",\n",
       " \"  {'source_document': '/home/pms/llm_project/mm_rag_esg_financial_project/pdf/Bidding_Document_UWS_AGRC.pdf', 'page_number': 211, 'paragraph_number': 2, 'text': 'Purchaser, in the format included in Section 9 (Contract Forms).'} \",\n",
       " \"  {'source_document': '/home/pms/llm_project/mm_rag_esg_financial_project/pdf/Bidding_Document_UWS_AGRC.pdf', 'page_number': 211, 'paragraph_number': 3, 'text': 'Discharge of the Performance Security shall take place: Pursuant to GCC Sub-'} \",\n",
       " \"  {'source_document': '/home/pms/llm_project/mm_rag_esg_financial_project/pdf/Bidding_Document_UWS_AGRC.pdf', 'page_number': 211, 'paragraph_number': 4, 'text': 'Security shall be reduced to 5% percent of the Contract to cover the Supplier’s'} \",\n",
       " \"  {'source_document': '/home/pms/llm_project/mm_rag_esg_financial_project/pdf/Bidding_Document_UWS_AGRC.pdf', 'page_number': 211, 'paragraph_number': 5, 'text': 'Single-Stage: Two-Envelope'} \",\n",
       " \"  {'source_document': '/home/pms/llm_project/mm_rag_esg_financial_project/pdf/Bidding_Document_UWS_AGRC.pdf', 'page_number': 212, 'paragraph_number': 1, 'text': 'The amount of aggregate liability shall be: 110% of the contract price.'} \",\n",
       " \"  {'source_document': '/home/pms/llm_project/mm_rag_esg_financial_project/pdf/Bidding_Document_UWS_AGRC.pdf', 'page_number': 212, 'paragraph_number': 2, 'text': 'Bidding Document for Web System'} \",\n",
       " \"  {'source_document': '/home/pms/llm_project/mm_rag_esg_financial_project/pdf/Bidding_Document_UWS_AGRC.pdf', 'page_number': 212, 'paragraph_number': 3, 'text': 'Single-Stage: Two-Envelope'} \",\n",
       " \"  {'source_document': '/home/pms/llm_project/mm_rag_esg_financial_project/pdf/Bidding_Document_UWS_AGRC.pdf', 'page_number': 213, 'paragraph_number': 1, 'text': 'Bidding Document for Web System'} \",\n",
       " \"  {'source_document': '/home/pms/llm_project/mm_rag_esg_financial_project/pdf/Bidding_Document_UWS_AGRC.pdf', 'page_number': 213, 'paragraph_number': 2, 'text': 'Single-Stage: Two-Envelope'} \",\n",
       " \"  {'source_document': '/home/pms/llm_project/mm_rag_esg_financial_project/pdf/Bidding_Document_UWS_AGRC.pdf', 'page_number': 214, 'paragraph_number': 1, 'text': '[on letterhead paper of the Purchaser]'} \",\n",
       " \"  {'source_document': '/home/pms/llm_project/mm_rag_esg_financial_project/pdf/Bidding_Document_UWS_AGRC.pdf', 'page_number': 214, 'paragraph_number': 2, 'text': '[date of notification]'} \",\n",
       " \"  {'source_document': '/home/pms/llm_project/mm_rag_esg_financial_project/pdf/Bidding_Document_UWS_AGRC.pdf', 'page_number': 214, 'paragraph_number': 3, 'text': 'To: [name of the Bidder] Attention: [insert name of the Bidder’s authorized representative] Address: [insert address of the Bidder’s authorized representative] Telephone/Fax numbers: [insert telephone/fax numbers of the Bidder’s authorized representative] E-mail Address: [insert e-mail address of the Bidder’s authorized representative]'} \",\n",
       " \"  {'source_document': '/home/pms/llm_project/mm_rag_esg_financial_project/pdf/Bidding_Document_UWS_AGRC.pdf', 'page_number': 214, 'paragraph_number': 4, 'text': 'This is to notify you of our intention to award the contract [insert name of the contract and identification number, as given in the Bid Data Sheet]. You have [insert number of days as specified in ITB 42.1 of the BDS] days from the date of this notification to (i) request for a debriefing in relation to the evaluation of your Bid; and/or (ii) submit a bidding-related complaint in relation to the intention for award of contract, in accordance with the procedures specified in ITB 48.1.'} \",\n",
       " \"  {'source_document': '/home/pms/llm_project/mm_rag_esg_financial_project/pdf/Bidding_Document_UWS_AGRC.pdf', 'page_number': 214, 'paragraph_number': 5, 'text': 'The summary of the evaluation are as follows:'} \",\n",
       " \"  {'source_document': '/home/pms/llm_project/mm_rag_esg_financial_project/pdf/Bidding_Document_UWS_AGRC.pdf', 'page_number': 214, 'paragraph_number': 6, 'text': 'Single-Stage: Two-Envelope'} \",\n",
       " \"  {'source_document': '/home/pms/llm_project/mm_rag_esg_financial_project/pdf/Bidding_Document_UWS_AGRC.pdf', 'page_number': 215, 'paragraph_number': 1, 'text': '[on letterhead of the Purchaser]'} \",\n",
       " \"  {'source_document': '/home/pms/llm_project/mm_rag_esg_financial_project/pdf/Bidding_Document_UWS_AGRC.pdf', 'page_number': 215, 'paragraph_number': 2, 'text': '[date]'} \",\n",
       " \"  {'source_document': '/home/pms/llm_project/mm_rag_esg_financial_project/pdf/Bidding_Document_UWS_AGRC.pdf', 'page_number': 215, 'paragraph_number': 3, 'text': 'Subject: Contract No. [please specify]'} \",\n",
       " \"  {'source_document': '/home/pms/llm_project/mm_rag_esg_financial_project/pdf/Bidding_Document_UWS_AGRC.pdf', 'page_number': 215, 'paragraph_number': 4, 'text': 'This is to notify you that your Bid dated [date] for execution of the [name of the contract and identification number, as given in the Bid Data Sheet] for the Accepted Contract Amount of the equivalent of [amount in words and figures and name of currency], as corrected and modified in accordance with the Instructions to Bidders is hereby accepted by our Agency.'} \",\n",
       " \"  {'source_document': '/home/pms/llm_project/mm_rag_esg_financial_project/pdf/Bidding_Document_UWS_AGRC.pdf', 'page_number': 215, 'paragraph_number': 5, 'text': 'You are requested to furnish the Performance Security within 28 days in accordance with the Conditions of Contract and any additional security required as a result of the evaluation of your bid, using for that purpose the Performance Security Form included in Section 9 (Contract Forms) of the Bidding Document.'} \",\n",
       " \"  {'source_document': '/home/pms/llm_project/mm_rag_esg_financial_project/pdf/Bidding_Document_UWS_AGRC.pdf', 'page_number': 215, 'paragraph_number': 6, 'text': 'Attachment: Contract Agreement'} \",\n",
       " \"  {'source_document': '/home/pms/llm_project/mm_rag_esg_financial_project/pdf/Bidding_Document_UWS_AGRC.pdf', 'page_number': 215, 'paragraph_number': 7, 'text': 'Bidding Document for Web System'} \",\n",
       " \"  {'source_document': '/home/pms/llm_project/mm_rag_esg_financial_project/pdf/Bidding_Document_UWS_AGRC.pdf', 'page_number': 215, 'paragraph_number': 8, 'text': 'Single-Stage: Two-Envelope'} \",\n",
       " \"  {'source_document': '/home/pms/llm_project/mm_rag_esg_financial_project/pdf/Bidding_Document_UWS_AGRC.pdf', 'page_number': 216, 'paragraph_number': 1, 'text': 'THIS AGREEMENT made on the [insert date] day of [insert month], [insert year], between [insert complete name of the purchaser] of [insert complete address of the Purchaser] (hereinafter “the Purchaser”), of the one part, and [insert complete name of the supplier] of [insert complete address of the supplier] (hereinafter “the Supplier”), of the other part:'} \",\n",
       " \"  {'source_document': '/home/pms/llm_project/mm_rag_esg_financial_project/pdf/Bidding_Document_UWS_AGRC.pdf', 'page_number': 216, 'paragraph_number': 2, 'text': 'WHEREAS the Purchaser invited Bids for certain IT Products and Services, viz., [insert brief description of the it products and services] and has accepted a Bid by the Supplier for the supply of those IT Products and Services in the sum of [insert currency or currencies and amount of contract price in words and figures] (hereinafter “the Contract Price”).'} \",\n",
       " \"  {'source_document': '/home/pms/llm_project/mm_rag_esg_financial_project/pdf/Bidding_Document_UWS_AGRC.pdf', 'page_number': 216, 'paragraph_number': 3, 'text': 'NOW THIS AGREEMENT WITNESSETH AS FOLLOWS:'} \",\n",
       " \"  {'source_document': '/home/pms/llm_project/mm_rag_esg_financial_project/pdf/Bidding_Document_UWS_AGRC.pdf', 'page_number': 216, 'paragraph_number': 4, 'text': 'This Contract shall prevail over all other Contract documents. In the event of any discrepancy or inconsistency within the Contract documents, then the documents shall prevail in the order listed above.'} \",\n",
       " \"  {'source_document': '/home/pms/llm_project/mm_rag_esg_financial_project/pdf/Bidding_Document_UWS_AGRC.pdf', 'page_number': 216, 'paragraph_number': 5, 'text': '1 Information contained in the addenda and or addendum should preferably be included in the contract documents to avoid potential ambiguities during contract implementation. If however, unavoidable priority should be decided depending on the nature of information provided in the addenda/addendum.'} \",\n",
       " \"  {'source_document': '/home/pms/llm_project/mm_rag_esg_financial_project/pdf/Bidding_Document_UWS_AGRC.pdf', 'page_number': 216, 'paragraph_number': 6, 'text': '2 Tables of Adjustment Data may be added if the contract provides for price adjustment (see GCC 15).'} \",\n",
       " \"  {'source_document': '/home/pms/llm_project/mm_rag_esg_financial_project/pdf/Bidding_Document_UWS_AGRC.pdf', 'page_number': 216, 'paragraph_number': 7, 'text': 'Single-Stage: Two-Envelope'} \",\n",
       " \"  {'source_document': '/home/pms/llm_project/mm_rag_esg_financial_project/pdf/Bidding_Document_UWS_AGRC.pdf', 'page_number': 217, 'paragraph_number': 1, 'text': 'IN WITNESS whereof the parties hereto have caused this Agreement to be executed in accordance with the laws of [indicated name of country] on the day, month, and year indicated above.'} \",\n",
       " \"  {'source_document': '/home/pms/llm_project/mm_rag_esg_financial_project/pdf/Bidding_Document_UWS_AGRC.pdf', 'page_number': 217, 'paragraph_number': 2, 'text': 'Signed by [insert authorized signature for the Purchaser] (for the Purchaser)'} \",\n",
       " \"  {'source_document': '/home/pms/llm_project/mm_rag_esg_financial_project/pdf/Bidding_Document_UWS_AGRC.pdf', 'page_number': 217, 'paragraph_number': 3, 'text': 'Signed by [insert authorized signature for the supplier] (for the Supplier)'} \",\n",
       " \"  {'source_document': '/home/pms/llm_project/mm_rag_esg_financial_project/pdf/Bidding_Document_UWS_AGRC.pdf', 'page_number': 217, 'paragraph_number': 4, 'text': 'Bidding Document for Web System'} \",\n",
       " \"  {'source_document': '/home/pms/llm_project/mm_rag_esg_financial_project/pdf/Bidding_Document_UWS_AGRC.pdf', 'page_number': 217, 'paragraph_number': 5, 'text': 'Single-Stage: Two-Envelope'} \",\n",
       " \"  {'source_document': '/home/pms/llm_project/mm_rag_esg_financial_project/pdf/Bidding_Document_UWS_AGRC.pdf', 'page_number': 218, 'paragraph_number': 1, 'text': '[Bank’s name, and address of issuing branch or office]'} \",\n",
       " \"  {'source_document': '/home/pms/llm_project/mm_rag_esg_financial_project/pdf/Bidding_Document_UWS_AGRC.pdf', 'page_number': 218, 'paragraph_number': 2, 'text': 'Beneficiary: …………………….. [Name and address of the Purchaser] ………………………'} \",\n",
       " \"  {'source_document': '/home/pms/llm_project/mm_rag_esg_financial_project/pdf/Bidding_Document_UWS_AGRC.pdf', 'page_number': 218, 'paragraph_number': 3, 'text': 'Date: ………………………………[Insert date (as day, month, and year)] ……………………..'} \",\n",
       " \"  {'source_document': '/home/pms/llm_project/mm_rag_esg_financial_project/pdf/Bidding_Document_UWS_AGRC.pdf', 'page_number': 218, 'paragraph_number': 4, 'text': 'We have been informed that [name of the supplier] (hereinafter called “the Supplier”) has entered into Contract No. [reference number of the contract] dated [date] with you, for the execution of [name of contract and brief description of it products and services] (hereinafter called “the Contract”).'} \",\n",
       " \"  {'source_document': '/home/pms/llm_project/mm_rag_esg_financial_project/pdf/Bidding_Document_UWS_AGRC.pdf', 'page_number': 218, 'paragraph_number': 5, 'text': 'Furthermore, we understand that, according to the conditions of the Contract, a performance guarantee is required.'} \",\n",
       " \"  {'source_document': '/home/pms/llm_project/mm_rag_esg_financial_project/pdf/Bidding_Document_UWS_AGRC.pdf', 'page_number': 218, 'paragraph_number': 6, 'text': 'At the request of the Supplier, we [name of the bank] hereby irrevocably undertake to pay you any sum or sums not exceeding in total an amount of [name of the currency and amount in words]1 [amount in figures] such sum being payable in the types and proportions of currencies in which the Contract Price is payable, upon receipt by us of your first demand in writing accompanied by a written statement stating that the Supplier is in breach of its obligation(s) under the Contract, without your needing to prove or to show grounds for your demand or the sum specified therein.'} \",\n",
       " \"  {'source_document': '/home/pms/llm_project/mm_rag_esg_financial_project/pdf/Bidding_Document_UWS_AGRC.pdf', 'page_number': 218, 'paragraph_number': 7, 'text': 'This guarantee shall expire, no later than the [date] day of [month], [year],2 and any demand for payment under it must be received by us at this office on or before that date.'} \",\n",
       " \"  {'source_document': '/home/pms/llm_project/mm_rag_esg_financial_project/pdf/Bidding_Document_UWS_AGRC.pdf', 'page_number': 218, 'paragraph_number': 8, 'text': 'This guarantee is subject to the Uniform Rules for Demand Guarantees (URDG) 2010 Revisions, ICC Publication No. 758, except that the supporting statement under Article 15(a) is hereby excluded.3'} \",\n",
       " \"  {'source_document': '/home/pms/llm_project/mm_rag_esg_financial_project/pdf/Bidding_Document_UWS_AGRC.pdf', 'page_number': 218, 'paragraph_number': 9, 'text': '[Signature(s) and seal of bank (where appropriate)]'} \",\n",
       " \"  {'source_document': '/home/pms/llm_project/mm_rag_esg_financial_project/pdf/Bidding_Document_UWS_AGRC.pdf', 'page_number': 218, 'paragraph_number': 10, 'text': 'If the bank issuing performance security is located outside the Purchaser’s country, it shall be counter-guaranteed or encashable by a bank in the Purchaser’s country.'} \",\n",
       " \"  {'source_document': '/home/pms/llm_project/mm_rag_esg_financial_project/pdf/Bidding_Document_UWS_AGRC.pdf', 'page_number': 219, 'paragraph_number': 1, 'text': '[insert complete name and number of contract]'} \",\n",
       " \"  {'source_document': '/home/pms/llm_project/mm_rag_esg_financial_project/pdf/Bidding_Document_UWS_AGRC.pdf', 'page_number': 219, 'paragraph_number': 2, 'text': 'To: [insert complete name of the Purchaser]'} \",\n",
       " \"  {'source_document': '/home/pms/llm_project/mm_rag_esg_financial_project/pdf/Bidding_Document_UWS_AGRC.pdf', 'page_number': 219, 'paragraph_number': 3, 'text': 'In accordance with the payment provision included in the Contract, in relation to advance payments, [insert complete name of the supplier] (hereinafter called “the Supplier”) shall deposit with the Purchaser a security consisting of [indicate type of security], to guarantee its proper and faithful performance of the obligations imposed by said Clause of the Contract, in the amount of [insert currency and amount of guarantee in words and figures].'} \",\n",
       " \"  {'source_document': '/home/pms/llm_project/mm_rag_esg_financial_project/pdf/Bidding_Document_UWS_AGRC.pdf', 'page_number': 219, 'paragraph_number': 4, 'text': 'We, the undersigned [insert complete name of the guarantor], legally domiciled in [insert full address of the guarantor] (hereinafter “the Guarantor”), as instructed by the Supplier, agree unconditionally and irrevocably to guarantee as primary obligor and not as surety merely, the payment to the Purchaser on its first demand without whatsoever right of objection on our part and without its first claim to the Supplier, in the amount not exceeding [insert currency and amount of guarantee in words and figures].'} \",\n",
       " \"  {'source_document': '/home/pms/llm_project/mm_rag_esg_financial_project/pdf/Bidding_Document_UWS_AGRC.pdf', 'page_number': 219, 'paragraph_number': 5, 'text': 'This security shall remain valid and in full effect from the date of the advance payment being received by the Supplier under the Contract until [insert date (as day, month, year)].'} \",\n",
       " \"  {'source_document': '/home/pms/llm_project/mm_rag_esg_financial_project/pdf/Bidding_Document_UWS_AGRC.pdf', 'page_number': 219, 'paragraph_number': 6, 'text': 'This guarantee is subject to the Uniform Rules for Demand Guarantees (URDG) 2010 Revisions, ICC Publication No. 758, except that the supporting statement under Article 15(a) is hereby excluded.1'} \",\n",
       " \"  {'source_document': '/home/pms/llm_project/mm_rag_esg_financial_project/pdf/Bidding_Document_UWS_AGRC.pdf', 'page_number': 219, 'paragraph_number': 7, 'text': 'Name: [insert complete name of person signing the Security]'} \",\n",
       " \"  {'source_document': '/home/pms/llm_project/mm_rag_esg_financial_project/pdf/Bidding_Document_UWS_AGRC.pdf', 'page_number': 219, 'paragraph_number': 8, 'text': 'In the capacity of [insert legal capacity of person signing the Security]'} \",\n",
       " \"  {'source_document': '/home/pms/llm_project/mm_rag_esg_financial_project/pdf/Bidding_Document_UWS_AGRC.pdf', 'page_number': 219, 'paragraph_number': 9, 'text': 'Signed: [insert signature of person whose name and capacity are shown above]'} \",\n",
       " \"  {'source_document': '/home/pms/llm_project/mm_rag_esg_financial_project/pdf/Bidding_Document_UWS_AGRC.pdf', 'page_number': 219, 'paragraph_number': 10, 'text': 'Duly authorized to sign the security for and on behalf of [insert seal (where appropriate) and complete'} \",\n",
       " \"  {'source_document': '/home/pms/llm_project/mm_rag_esg_financial_project/pdf/Bidding_Document_UWS_AGRC.pdf', 'page_number': 219, 'paragraph_number': 11, 'text': 'Date: [insert date of signing]'} \",\n",
       " \"  {'source_document': '/home/pms/llm_project/mm_rag_esg_financial_project/pdf/Bidding_Document_UWS_AGRC.pdf', 'page_number': 219, 'paragraph_number': 12, 'text': 'If the bank issuing advance payment security is located outside the Purchaser’s country, it shall be counter- guaranteed or encashable by a bank in the Purchaser’s country.'} \",\n",
       " \"  {'source_document': '/home/pms/llm_project/mm_rag_esg_financial_project/pdf/Bidding_Document_UWS_AGRC.pdf', 'page_number': 219, 'paragraph_number': 13, 'text': '1 Or the purchaser may use “Uniform Rules for Demand Guarantees (URDG), ICC Publication No. 458, except that subparagraph (ii) of Sub-article 20(a) is hereby excluded” as appropriate.'} \",\n",
       " '  {\\'source_document\\': \\'/home/pms/llm_project/mm_rag_esg_financial_project/pdf/Bidding_Document_UWS_AGRC.pdf\\', \\'page_number\\': 220, \\'paragraph_number\\': 1, \\'text\\': \\'v [acorn] [uname] [ Prague | 2S \" — p> WW —- ee. | : Lp\\'} ']"
      ]
     },
     "execution_count": 52,
     "metadata": {},
     "output_type": "execute_result"
    }
   ],
   "source": [
    "clean_text_summaries"
   ]
  }
 ],
 "metadata": {
  "kernelspec": {
   "display_name": "esg",
   "language": "python",
   "name": "python3"
  },
  "language_info": {
   "codemirror_mode": {
    "name": "ipython",
    "version": 3
   },
   "file_extension": ".py",
   "mimetype": "text/x-python",
   "name": "python",
   "nbconvert_exporter": "python",
   "pygments_lexer": "ipython3",
   "version": "3.10.12"
  }
 },
 "nbformat": 4,
 "nbformat_minor": 2
}
