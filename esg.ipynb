{
 "cells": [
  {
   "cell_type": "code",
   "execution_count": 2,
   "metadata": {},
   "outputs": [],
   "source": [
    "!pip -qqq install yt-dlp"
   ]
  },
  {
   "cell_type": "code",
   "execution_count": 1,
   "metadata": {},
   "outputs": [],
   "source": [
    "from yt_dlp import YoutubeDL\n",
    "import os\n",
    "import re"
   ]
  },
  {
   "cell_type": "code",
   "execution_count": null,
   "metadata": {},
   "outputs": [],
   "source": [
    "#!pip install moviepy\n",
    "#!pip install pytube"
   ]
  },
  {
   "cell_type": "code",
   "execution_count": 8,
   "metadata": {},
   "outputs": [],
   "source": [
    "from pytube import YouTube\n",
    "from moviepy import VideoFileClip"
   ]
  },
  {
   "cell_type": "code",
   "execution_count": 9,
   "metadata": {},
   "outputs": [],
   "source": [
    "def download_youtube_video(url, download_path='downloads_vdo/'):\n",
    "    # Create directory if it doesn't exist\n",
    "    if not os.path.exists(download_path):\n",
    "        os.makedirs(download_path)\n",
    "\n",
    "    # Download the YouTube video\n",
    "    yt = YouTube(url)\n",
    "    video = yt.streams.filter(only_video=False, file_extension='mp4').first()\n",
    "    video_path = video.download(output_path=download_path)\n",
    "\n",
    "    print(f\"Video downloaded: {video_path}\")\n",
    "    return video_path"
   ]
  },
  {
   "cell_type": "code",
   "execution_count": 10,
   "metadata": {},
   "outputs": [],
   "source": [
    "video_urls = [\"https://www.youtube.com/watch?v=qP1JKWBBy80\",\n",
    "                \"https://www.youtube.com/watch?v=_p58cZIHDG4\"]"
   ]
  },
  {
   "cell_type": "code",
   "execution_count": null,
   "metadata": {},
   "outputs": [],
   "source": [
    "#for video in video_urls:\n",
    "    #download_youtube_video(video)"
   ]
  },
  {
   "cell_type": "code",
   "execution_count": null,
   "metadata": {},
   "outputs": [],
   "source": [
    "video_path = \"/home/pms/llm_project/mm_rag_esg_financial_project/downloads_vdo/Invest_with_Conscience_ ESG_Investing.mp4\"\n",
    "audio_path = os.path.splitext(video_path)[0] + '.mp3'\n",
    "\n",
    "video_clip = VideoFileClip(video_path)\n",
    "video_clip.audio.write_audiofile(audio_path,codec='mp3')\n",
    "video_clip.close()\n"
   ]
  },
  {
   "cell_type": "code",
   "execution_count": null,
   "metadata": {},
   "outputs": [],
   "source": [
    "# class YouTubeAudioDownloader:\n",
    "#     def __init__(self, output_folder):\n",
    "#         self.output_folder = os.path.abspath(output_folder)\n",
    "#         self.audio_files_dict = {}\n",
    "\n",
    "#     def get_safe_filename(self, filename):\n",
    "#         safe_filename = re.sub(r'[^\\w\\-.]', '_', filename)\n",
    "#         safe_filename = re.sub(r'_+', '_', safe_filename)\n",
    "#         safe_filename = safe_filename[:50].strip('_')\n",
    "#         return safe_filename\n",
    "\n",
    "#     def download_audio(self, video_url):\n",
    "#         try:\n",
    "#             ydl_opts = {\n",
    "#                 'format': 'bestaudio/best',\n",
    "#                 'postprocessors': [{\n",
    "#                     'key': 'FFmpegExtractAudio',\n",
    "#                     'preferredcodec': 'mp3',\n",
    "#                     'preferredquality': '192',\n",
    "#                 }],\n",
    "#                 'outtmpl': os.path.join(self.output_folder, '%(title)s.%(ext)s'),\n",
    "#             }\n",
    "\n",
    "#             with YoutubeDL(ydl_opts) as ydl:\n",
    "#                 info = ydl.extract_info(video_url, download=True)\n",
    "#                 filename = ydl.prepare_filename(info)\n",
    "#                 base, ext = os.path.splitext(filename)\n",
    "#                 new_file = base + '.mp3'\n",
    "\n",
    "#             print(f\"Audio file downloaded: {new_file}\")\n",
    "#             self.audio_files_dict[video_url] = new_file\n",
    "#             return new_file\n",
    "#         except Exception as e:\n",
    "#             print(f\"Error downloading audio from {video_url}: {str(e)}\")\n",
    "#             return None\n",
    "\n",
    "#     def download_multiple_audios(self, video_urls):\n",
    "#         for url in video_urls:\n",
    "#             print(f\"Processing video: {url}\")\n",
    "#             audio_file = self.download_audio(url)\n",
    "#             if audio_file is None:\n",
    "#                 print(f\"Failed to download audio from video: {url}\")\n",
    "#         return self.audio_files_dict"
   ]
  },
  {
   "cell_type": "code",
   "execution_count": null,
   "metadata": {},
   "outputs": [],
   "source": [
    "# downloader = YouTubeAudioDownloader(output_folder=\"./data\")\n",
    "# video_urls = [\"https://www.youtube.com/watch?v=qP1JKWBBy80\",\n",
    "#                 \"https://www.youtube.com/watch?v=_p58cZIHDG4\"]\n",
    "\n",
    "# # Download audios from multiple videos\n",
    "# audio_files = downloader.download_multiple_audios(video_urls)\n",
    "\n",
    "# print(\"Downloaded audio files:\")\n",
    "# for audio_file in audio_files:\n",
    "#     print(audio_file)"
   ]
  },
  {
   "cell_type": "markdown",
   "metadata": {},
   "source": [
    "### Transcriptions Generation with Whisper"
   ]
  },
  {
   "cell_type": "code",
   "execution_count": null,
   "metadata": {},
   "outputs": [],
   "source": [
    "!pip -qqq install openai-whisper"
   ]
  },
  {
   "cell_type": "code",
   "execution_count": 2,
   "metadata": {},
   "outputs": [],
   "source": [
    "import whisper\n",
    "import torch"
   ]
  },
  {
   "cell_type": "code",
   "execution_count": 9,
   "metadata": {},
   "outputs": [],
   "source": [
    "class AudioTranscriber:\n",
    "    def __init__(self, input_folder):\n",
    "        self.input_folder = os.path.abspath(os.path.join(os.getcwd(), input_folder))\n",
    "        self.whisper_model = None\n",
    "        self.transcriptions_dict = {}\n",
    "\n",
    "    def transcribe_audio(self, audio_file):\n",
    "        try:\n",
    "            if not os.path.exists(audio_file):\n",
    "                print(f\"Audio file not found: {audio_file}\")\n",
    "                return None\n",
    "\n",
    "            file_size = os.path.getsize(audio_file)\n",
    "            if file_size == 0:\n",
    "                print(f\"Audio file is empty: {audio_file}\")\n",
    "                return None\n",
    "\n",
    "            transcription = self.whisper_model.transcribe(audio_file)\n",
    "            return transcription[\"text\"]\n",
    "        except Exception as e:\n",
    "            print(f\"Error in transcribe_audio: {str(e)}\")\n",
    "            return None\n",
    "\n",
    "    def transcribe_all_audios(self, audio_files_dict):\n",
    "        # for url, audio_path in audio_files_dict.items():\n",
    "        #     if not audio_path.endswith('.mp3'):\n",
    "        #         print(f\"Skipping non-mp3 file: {audio_path}\")\n",
    "        #         continue\n",
    "\n",
    "        transcription = self.transcribe_audio(audio_path)\n",
    "\n",
    "        if transcription is not None:\n",
    "            # Add to transcriptions dictionary\n",
    "            self.transcriptions_dict = {\n",
    "                #'url': url,\n",
    "                'audio_path': audio_path,\n",
    "                'transcription': transcription\n",
    "            }\n",
    "        else:\n",
    "            print(f\"Failed to transcribe audio: {audio_path}\")\n",
    "\n",
    "        return self.transcriptions_dict"
   ]
  },
  {
   "cell_type": "code",
   "execution_count": 5,
   "metadata": {},
   "outputs": [
    {
     "name": "stderr",
     "output_type": "stream",
     "text": [
      "/home/pms/llm_project/mm_rag_esg_financial_project/esg/lib/python3.10/site-packages/whisper/__init__.py:150: FutureWarning: You are using `torch.load` with `weights_only=False` (the current default value), which uses the default pickle module implicitly. It is possible to construct malicious pickle data which will execute arbitrary code during unpickling (See https://github.com/pytorch/pytorch/blob/main/SECURITY.md#untrusted-models for more details). In a future release, the default value for `weights_only` will be flipped to `True`. This limits the functions that could be executed during unpickling. Arbitrary objects will no longer be allowed to be loaded via this mode unless they are explicitly allowlisted by the user via `torch.serialization.add_safe_globals`. We recommend you start setting `weights_only=True` for any use case where you don't have full control of the loaded file. Please open an issue on GitHub for any issues related to this experimental feature.\n",
      "  checkpoint = torch.load(fp, map_location=device)\n"
     ]
    }
   ],
   "source": [
    "device = \"cude\" if torch.cuda.is_available() else \"cpu\"\n",
    "whisper_model = whisper.load_model(\"medium\",device=device)"
   ]
  },
  {
   "cell_type": "code",
   "execution_count": null,
   "metadata": {},
   "outputs": [
    {
     "name": "stdout",
     "output_type": "stream",
     "text": [
      "['/home/pms/llm_project/mm_rag_esg_financial_project/data/Invest_with_Conscience_ ESG_Investing.mp3', '/home/pms/llm_project/mm_rag_esg_financial_project/data/ESG_investing_complete.mp3']\n"
     ]
    }
   ],
   "source": [
    "\n",
    "mp3files = []\n",
    "\n"
   ]
  },
  {
   "cell_type": "code",
   "execution_count": null,
   "metadata": {},
   "outputs": [],
   "source": [
    "import glob\n",
    "# Initialize the AudioTranscriber\n",
    "#transcriber = AudioTranscriber(input_folder=r\"./data\")\n",
    "\n",
    "# Initialize your Whisper model\n",
    "#transcriber.whisper_model = whisper_model\n",
    "\n",
    "# Transcribe all audios in the input folder\n",
    "#for file in glob.glob(f'{os.getcwd()}/data/*.mp3'):\n",
    "transcriptions_dict = whisper_model.transcribe(\"/home/pms/llm_project/mm_rag_esg_financial_project/data/ESG_investing_complete.mp3\")\n",
    "\n",
    "print(transcriptions_dict)\n",
    "#transcriptions_dict\n",
    "\n",
    "# for _, data in transcriptions_dict.items():\n",
    "#     #print(f\"URL: {url}\")\n",
    "#     print(f\"Audio file: {data['audio_path']}\")\n",
    "#     print(f\"Transcription: {data['transcription'][:100]}...\")  # Print first 100 characters\n",
    "#     print(\"---\")"
   ]
  },
  {
   "cell_type": "code",
   "execution_count": null,
   "metadata": {},
   "outputs": [],
   "source": [
    "transcriptions_dict['text']"
   ]
  }
 ],
 "metadata": {
  "kernelspec": {
   "display_name": "esg",
   "language": "python",
   "name": "python3"
  },
  "language_info": {
   "codemirror_mode": {
    "name": "ipython",
    "version": 3
   },
   "file_extension": ".py",
   "mimetype": "text/x-python",
   "name": "python",
   "nbconvert_exporter": "python",
   "pygments_lexer": "ipython3",
   "version": "3.10.12"
  }
 },
 "nbformat": 4,
 "nbformat_minor": 2
}
