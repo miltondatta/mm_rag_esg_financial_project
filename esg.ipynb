{
 "cells": [
  {
   "cell_type": "code",
   "execution_count": 2,
   "metadata": {},
   "outputs": [],
   "source": [
    "!pip -qqq install yt-dlp"
   ]
  },
  {
   "cell_type": "code",
   "execution_count": 3,
   "metadata": {},
   "outputs": [],
   "source": [
    "from yt_dlp import YoutubeDL\n",
    "import os\n",
    "import re"
   ]
  },
  {
   "cell_type": "code",
   "execution_count": null,
   "metadata": {},
   "outputs": [],
   "source": [
    "#!pip install moviepy\n",
    "#!pip install pytube"
   ]
  },
  {
   "cell_type": "code",
   "execution_count": 8,
   "metadata": {},
   "outputs": [],
   "source": [
    "from pytube import YouTube\n",
    "from moviepy import VideoFileClip"
   ]
  },
  {
   "cell_type": "code",
   "execution_count": 9,
   "metadata": {},
   "outputs": [],
   "source": [
    "def download_youtube_video(url, download_path='downloads_vdo/'):\n",
    "    # Create directory if it doesn't exist\n",
    "    if not os.path.exists(download_path):\n",
    "        os.makedirs(download_path)\n",
    "\n",
    "    # Download the YouTube video\n",
    "    yt = YouTube(url)\n",
    "    video = yt.streams.filter(only_video=False, file_extension='mp4').first()\n",
    "    video_path = video.download(output_path=download_path)\n",
    "\n",
    "    print(f\"Video downloaded: {video_path}\")\n",
    "    return video_path"
   ]
  },
  {
   "cell_type": "code",
   "execution_count": 10,
   "metadata": {},
   "outputs": [],
   "source": [
    "video_urls = [\"https://www.youtube.com/watch?v=qP1JKWBBy80\",\n",
    "                \"https://www.youtube.com/watch?v=_p58cZIHDG4\"]"
   ]
  },
  {
   "cell_type": "code",
   "execution_count": null,
   "metadata": {},
   "outputs": [],
   "source": [
    "#for video in video_urls:\n",
    "    #download_youtube_video(video)"
   ]
  },
  {
   "cell_type": "code",
   "execution_count": null,
   "metadata": {},
   "outputs": [],
   "source": [
    "video_path = \"/home/pms/llm_project/mm_rag_esg_financial_project/downloads_vdo/Invest_with_Conscience_ ESG_Investing.mp4\"\n",
    "audio_path = os.path.splitext(video_path)[0] + '.mp3'\n",
    "\n",
    "video_clip = VideoFileClip(video_path)\n",
    "video_clip.audio.write_audiofile(audio_path,codec='mp3')\n",
    "video_clip.close()\n"
   ]
  },
  {
   "cell_type": "code",
   "execution_count": null,
   "metadata": {},
   "outputs": [],
   "source": [
    "# class YouTubeAudioDownloader:\n",
    "#     def __init__(self, output_folder):\n",
    "#         self.output_folder = os.path.abspath(output_folder)\n",
    "#         self.audio_files_dict = {}\n",
    "\n",
    "#     def get_safe_filename(self, filename):\n",
    "#         safe_filename = re.sub(r'[^\\w\\-.]', '_', filename)\n",
    "#         safe_filename = re.sub(r'_+', '_', safe_filename)\n",
    "#         safe_filename = safe_filename[:50].strip('_')\n",
    "#         return safe_filename\n",
    "\n",
    "#     def download_audio(self, video_url):\n",
    "#         try:\n",
    "#             ydl_opts = {\n",
    "#                 'format': 'bestaudio/best',\n",
    "#                 'postprocessors': [{\n",
    "#                     'key': 'FFmpegExtractAudio',\n",
    "#                     'preferredcodec': 'mp3',\n",
    "#                     'preferredquality': '192',\n",
    "#                 }],\n",
    "#                 'outtmpl': os.path.join(self.output_folder, '%(title)s.%(ext)s'),\n",
    "#             }\n",
    "\n",
    "#             with YoutubeDL(ydl_opts) as ydl:\n",
    "#                 info = ydl.extract_info(video_url, download=True)\n",
    "#                 filename = ydl.prepare_filename(info)\n",
    "#                 base, ext = os.path.splitext(filename)\n",
    "#                 new_file = base + '.mp3'\n",
    "\n",
    "#             print(f\"Audio file downloaded: {new_file}\")\n",
    "#             self.audio_files_dict[video_url] = new_file\n",
    "#             return new_file\n",
    "#         except Exception as e:\n",
    "#             print(f\"Error downloading audio from {video_url}: {str(e)}\")\n",
    "#             return None\n",
    "\n",
    "#     def download_multiple_audios(self, video_urls):\n",
    "#         for url in video_urls:\n",
    "#             print(f\"Processing video: {url}\")\n",
    "#             audio_file = self.download_audio(url)\n",
    "#             if audio_file is None:\n",
    "#                 print(f\"Failed to download audio from video: {url}\")\n",
    "#         return self.audio_files_dict"
   ]
  },
  {
   "cell_type": "code",
   "execution_count": null,
   "metadata": {},
   "outputs": [],
   "source": [
    "# downloader = YouTubeAudioDownloader(output_folder=\"./data\")\n",
    "# video_urls = [\"https://www.youtube.com/watch?v=qP1JKWBBy80\",\n",
    "#                 \"https://www.youtube.com/watch?v=_p58cZIHDG4\"]\n",
    "\n",
    "# # Download audios from multiple videos\n",
    "# audio_files = downloader.download_multiple_audios(video_urls)\n",
    "\n",
    "# print(\"Downloaded audio files:\")\n",
    "# for audio_file in audio_files:\n",
    "#     print(audio_file)"
   ]
  }
 ],
 "metadata": {
  "kernelspec": {
   "display_name": "esg",
   "language": "python",
   "name": "python3"
  },
  "language_info": {
   "codemirror_mode": {
    "name": "ipython",
    "version": 3
   },
   "file_extension": ".py",
   "mimetype": "text/x-python",
   "name": "python",
   "nbconvert_exporter": "python",
   "pygments_lexer": "ipython3",
   "version": "3.10.12"
  }
 },
 "nbformat": 4,
 "nbformat_minor": 2
}
